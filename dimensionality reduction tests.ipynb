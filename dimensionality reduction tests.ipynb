{
 "cells": [
  {
   "cell_type": "code",
   "execution_count": 1,
   "metadata": {
    "collapsed": false
   },
   "outputs": [],
   "source": [
    "from backend.offline.offline_algorithms import IncrementalPCA\n",
    "from backend.data_model.time_series import DataMultibandTimeSeries\n",
    "from backend.data_model.time_series import TimeSeriesMongoDataBase\n",
    "pca1 = IncrementalPCA(2)\n",
    "pca2 = IncrementalPCA(2)\n",
    "mongodb = TimeSeriesMongoDataBase('lightcurves')"
   ]
  },
  {
   "cell_type": "code",
   "execution_count": 2,
   "metadata": {
    "collapsed": false
   },
   "outputs": [],
   "source": [
    "lightcurves = mongodb.find_many('macho', {})"
   ]
  },
  {
   "cell_type": "code",
   "execution_count": 3,
   "metadata": {
    "collapsed": false
   },
   "outputs": [],
   "source": [
    "f1, r1 =  pca1.add_transform_time_series(lightcurves)"
   ]
  },
  {
   "cell_type": "code",
   "execution_count": 4,
   "metadata": {
    "collapsed": false
   },
   "outputs": [],
   "source": [
    "f2 = pca2.add_time_series(lightcurves)\n",
    "r2 = pca2.transform_time_series(lightcurves)"
   ]
  },
  {
   "cell_type": "code",
   "execution_count": 5,
   "metadata": {
    "collapsed": false
   },
   "outputs": [
    {
     "data": {
      "text/plain": [
       "matrix([[ True,  True,  True, ...,  True,  True,  True],\n",
       "        [ True,  True,  True, ...,  True,  True,  True],\n",
       "        [ True,  True,  True, ...,  True,  True,  True],\n",
       "        ..., \n",
       "        [ True,  True,  True, ...,  True,  True,  True],\n",
       "        [ True,  True,  True, ...,  True,  True,  True],\n",
       "        [ True,  True,  True, ...,  True,  True,  True]], dtype=bool)"
      ]
     },
     "execution_count": 5,
     "metadata": {},
     "output_type": "execute_result"
    }
   ],
   "source": [
    "f1 == f2"
   ]
  },
  {
   "cell_type": "code",
   "execution_count": 6,
   "metadata": {
    "collapsed": false
   },
   "outputs": [],
   "source": [
    "import matplotlib.pyplot as plt"
   ]
  },
  {
   "cell_type": "code",
   "execution_count": 7,
   "metadata": {
    "collapsed": false
   },
   "outputs": [],
   "source": [
    "plt.plot(r2[:,0], r2[:,1], '*')\n",
    "plt.show()"
   ]
  },
  {
   "cell_type": "code",
   "execution_count": 8,
   "metadata": {
    "collapsed": true
   },
   "outputs": [],
   "source": [
    "mongodb.update_many(lightcurves)"
   ]
  },
  {
   "cell_type": "code",
   "execution_count": 9,
   "metadata": {
    "collapsed": false
   },
   "outputs": [
    {
     "data": {
      "text/plain": [
       "[0.067052038955087934, 17.36433754984272]"
      ]
     },
     "execution_count": 9,
     "metadata": {},
     "output_type": "execute_result"
    }
   ],
   "source": [
    "lightcurves[0].reduced_vector"
   ]
  },
  {
   "cell_type": "code",
   "execution_count": 10,
   "metadata": {
    "collapsed": false
   },
   "outputs": [
    {
     "data": {
      "text/plain": [
       "u'macho'"
      ]
     },
     "execution_count": 10,
     "metadata": {},
     "output_type": "execute_result"
    }
   ],
   "source": [
    "lightcurves[0].catalog"
   ]
  },
  {
   "cell_type": "code",
   "execution_count": 11,
   "metadata": {
    "collapsed": false
   },
   "outputs": [],
   "source": [
    "a = mongodb.set_reduction_model(pca1)"
   ]
  },
  {
   "cell_type": "code",
   "execution_count": 12,
   "metadata": {
    "collapsed": false
   },
   "outputs": [],
   "source": [
    "import pickle\n",
    "from bson.binary import Binary\n",
    "binary_data = pickle.dumps(pca1)\n",
    "document = {'model': 'reduction', 'bin-data': Binary(binary_data)}\n",
    "a = mongodb.db['models'].replace_one({'model': 'reduction'}, document, True)"
   ]
  },
  {
   "cell_type": "code",
   "execution_count": 13,
   "metadata": {
    "collapsed": false
   },
   "outputs": [],
   "source": [
    "a = mongodb.get_reduction_model()"
   ]
  },
  {
   "cell_type": "code",
   "execution_count": 15,
   "metadata": {
    "collapsed": false
   },
   "outputs": [
    {
     "data": {
      "text/plain": [
       "matrix([[ -2.22709434e-01,  -9.51295732e-02],\n",
       "        [  4.72692185e-02,  -6.64993109e-02],\n",
       "        [  6.79451133e-03,   1.99164531e-01],\n",
       "        [ -1.86731763e-01,   1.14181044e-01],\n",
       "        [ -1.26407146e-02,   3.05931518e-02],\n",
       "        [ -6.15062276e-02,   4.02394015e-02],\n",
       "        [ -6.19687853e-03,  -1.31598822e-02],\n",
       "        [ -1.97521080e-02,   8.68523570e-02],\n",
       "        [  8.51291607e-04,   1.71901728e-01],\n",
       "        [ -1.45632747e-02,   7.43273538e-03],\n",
       "        [ -1.13386581e-02,   4.25429787e-02],\n",
       "        [ -7.66055981e-02,   2.59346501e-01],\n",
       "        [ -8.51082185e-02,   2.72021499e-01],\n",
       "        [ -8.37555360e-02,   2.72152269e-01],\n",
       "        [ -8.77273603e-02,   2.67436604e-01],\n",
       "        [ -8.39061581e-02,   2.44721963e-01],\n",
       "        [ -2.17695183e-01,   2.64957988e-02],\n",
       "        [ -1.69149160e-01,   3.67891431e-02],\n",
       "        [ -1.76374671e-01,   3.64174202e-02],\n",
       "        [ -1.84889925e-01,   2.13347051e-03],\n",
       "        [  0.00000000e+00,   0.00000000e+00],\n",
       "        [ -5.64078039e-03,  -4.45112867e-03],\n",
       "        [  1.67848760e-03,   1.17368263e-03],\n",
       "        [  4.07843767e-03,  -8.18642809e-03],\n",
       "        [ -2.25900070e-01,  -4.58138653e-03],\n",
       "        [ -1.81124914e-01,   1.88074363e-02],\n",
       "        [ -1.80739676e-01,  -3.09551270e-03],\n",
       "        [ -1.72416867e-01,  -7.58318465e-03],\n",
       "        [  0.00000000e+00,   0.00000000e+00],\n",
       "        [ -1.07418863e-02,   9.13898314e-03],\n",
       "        [ -2.62108638e-03,   1.74280007e-02],\n",
       "        [ -5.64912171e-03,   2.38928140e-02],\n",
       "        [ -2.27750962e-01,  -2.22870824e-02],\n",
       "        [ -1.81698378e-01,  -7.93805015e-03],\n",
       "        [ -1.77185232e-01,  -4.52791734e-03],\n",
       "        [ -1.82292453e-01,  -1.31995831e-03],\n",
       "        [  0.00000000e+00,   0.00000000e+00],\n",
       "        [ -2.73223174e-03,   5.58084605e-03],\n",
       "        [ -3.23800552e-03,  -6.76123609e-03],\n",
       "        [  8.88452345e-03,  -1.17118162e-03],\n",
       "        [  2.21171951e-02,  -6.24449748e-02],\n",
       "        [ -1.28948940e-01,  -1.31645640e-01],\n",
       "        [ -1.57567446e-01,  -2.29050814e-01],\n",
       "        [  2.23746688e-01,   7.80486473e-02],\n",
       "        [ -2.30558260e-01,  -2.47691294e-02],\n",
       "        [  1.79606113e-01,  -1.25525903e-01],\n",
       "        [  7.39419533e-05,   1.37499387e-03],\n",
       "        [  2.07528526e-01,   1.19241430e-01],\n",
       "        [  2.23591171e-01,   7.60629861e-02],\n",
       "        [  3.49347946e-02,   1.08248426e-01],\n",
       "        [ -1.49344682e-02,  -1.32479011e-01],\n",
       "        [ -1.66016366e-02,   2.73561363e-01],\n",
       "        [ -5.09775901e-03,  -2.75770817e-01],\n",
       "        [ -2.30286058e-01,  -2.38416161e-02],\n",
       "        [ -2.05687667e-01,  -7.70584975e-02],\n",
       "        [  1.43495471e-02,   2.74691562e-01],\n",
       "        [  1.10016367e-02,   1.20770474e-01],\n",
       "        [ -8.65378856e-03,   1.70793968e-01],\n",
       "        [  1.16544606e-01,  -4.43929730e-02],\n",
       "        [ -2.26088079e-01,  -8.05719092e-02],\n",
       "        [ -2.44276581e-02,   1.87696614e-01],\n",
       "        [  4.83585639e-02,   1.07139488e-01],\n",
       "        [ -1.73702816e-02,   1.77781458e-01],\n",
       "        [ -2.07734596e-02,   1.76229772e-01]])"
      ]
     },
     "execution_count": 15,
     "metadata": {},
     "output_type": "execute_result"
    }
   ],
   "source": [
    "a.W"
   ]
  },
  {
   "cell_type": "code",
   "execution_count": null,
   "metadata": {
    "collapsed": true
   },
   "outputs": [],
   "source": []
  }
 ],
 "metadata": {
  "kernelspec": {
   "display_name": "Python 2",
   "language": "python",
   "name": "python2"
  },
  "language_info": {
   "codemirror_mode": {
    "name": "ipython",
    "version": 2
   },
   "file_extension": ".py",
   "mimetype": "text/x-python",
   "name": "python",
   "nbconvert_exporter": "python",
   "pygments_lexer": "ipython2",
   "version": "2.7.11"
  }
 },
 "nbformat": 4,
 "nbformat_minor": 0
}
