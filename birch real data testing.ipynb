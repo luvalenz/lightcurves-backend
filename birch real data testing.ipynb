{
 "cells": [
  {
   "cell_type": "code",
   "execution_count": 1,
   "metadata": {
    "collapsed": false
   },
   "outputs": [],
   "source": [
    "from backend.data_model.time_series import DataMultibandTimeSeries\n",
    "from backend.data_model.time_series import TimeSeriesMongoDataBase\n",
    "from backend.data_model.clusters import Cluster, ClustersMongoDataBase\n",
    "from backend.offline.offline_algorithms import Birch\n",
    "import numpy as np\n",
    "import pandas as pd\n",
    "import matplotlib.pyplot as plt\n",
    "import string"
   ]
  },
  {
   "cell_type": "code",
   "execution_count": null,
   "metadata": {
    "collapsed": true
   },
   "outputs": [],
   "source": [
    "def extract_feature_matrix(database, id_list):\n",
    "    time_series_list = database.get_many('macho', id_list)\n",
    "    feature_vectors = []\n",
    "    for time_series in time_series_list:\n",
    "        feature_vector = time_series.reduced_vector\n",
    "        if len(feature_vector) != 0:\n",
    "            feature_vectors.append(feature_vector)\n",
    "        else:\n",
    "            print(time_series.id)\n",
    "    print('{0}, {1}'.format(len(id_list), len(feature_vectors)))\n",
    "    return np.array((feature_vectors))\n",
    "\n",
    "\n",
    "def plot_cluster_list(centers, clusters, database):\n",
    "    plt.plot(centers[:, 0], centers[:, 1], 'x')\n",
    "    colors = plt.cm.Spectral(np.linspace(0, 1, len(clusters)))\n",
    "    np.random.shuffle(colors)\n",
    "    for cluster_indices, col in zip(clusters, colors):\n",
    "        cluster_data = extract_feature_matrix(database, cluster_indices)\n",
    "        plt.plot(cluster_data[:, 0], cluster_data[:, 1], 'o', markerfacecolor=col)\n",
    "    plt.show()\n",
    "\n",
    "\n",
    "def plot_lightcurves(lightcurve_list):\n",
    "    reduced_features = []\n",
    "    for lc in lightcurve_list:\n",
    "        if lc.reduced_vector is not None and len(lc.reduced_vector) > 1:\n",
    "            reduced_features.append(lc.reduced_vector)\n",
    "    reduced_features = np.vstack(reduced_features)\n",
    "    plt.plot(reduced_features[:, 0], reduced_features[:, 1], '*')\n",
    "    plt.show()"
   ]
  },
  {
   "cell_type": "code",
   "execution_count": null,
   "metadata": {
    "collapsed": true
   },
   "outputs": [],
   "source": [
    "mongodb = TimeSeriesMongoDataBase('lightcurves')\n",
    "lightcurves = mongodb.find_many('macho', {})\n",
    "\n",
    "plot_lightcurves(lightcurves)"
   ]
  },
  {
   "cell_type": "code",
   "execution_count": null,
   "metadata": {
    "collapsed": false
   },
   "outputs": [],
   "source": [
    "threshold = 0.75\n",
    "birch = Birch(threshold, 'd1', 'r', 10, True, 1)\n",
    "birch.add_many_time_series(lightcurves)\n",
    "\n",
    "\n",
    "local_centers, local_clusters = birch.get_cluster_list(mode='local')\n",
    "print(len(local_centers))\n",
    "print(len(local_clusters))\n",
    "for cluster in local_clusters:\n",
    "    print str(len(cluster)) + ' ',\n",
    "print ' '\n",
    "plot_cluster_list(local_centers, local_clusters, mongodb)"
   ]
  },
  {
   "cell_type": "code",
   "execution_count": null,
   "metadata": {
    "collapsed": false
   },
   "outputs": [],
   "source": [
    "global_centers, global_clusters = birch.get_cluster_list(mode='global')\n",
    "plot_cluster_list(global_centers, global_clusters, mongodb)"
   ]
  },
  {
   "cell_type": "code",
   "execution_count": null,
   "metadata": {
    "collapsed": false
   },
   "outputs": [],
   "source": [
    "clusters = []\n",
    "for center, cluster in zip(global_centers, global_clusters):\n",
    "    time_series_list = mongodb.get_many('macho', cluster)\n",
    "    clusters.append(Cluster.from_time_series_sequence(time_series_list, center))"
   ]
  },
  {
   "cell_type": "code",
   "execution_count": null,
   "metadata": {
    "collapsed": false
   },
   "outputs": [],
   "source": [
    "clusters[0].to_list_of_dicts()"
   ]
  },
  {
   "cell_type": "code",
   "execution_count": null,
   "metadata": {
    "collapsed": false
   },
   "outputs": [],
   "source": [
    "clusters_mongodb = ClustersMongoDataBase()"
   ]
  },
  {
   "cell_type": "code",
   "execution_count": null,
   "metadata": {
    "collapsed": false
   },
   "outputs": [],
   "source": [
    "clusters_mongodb.store_clusters(clusters)"
   ]
  },
  {
   "cell_type": "code",
   "execution_count": null,
   "metadata": {
    "collapsed": true
   },
   "outputs": [],
   "source": []
  },
  {
   "cell_type": "code",
   "execution_count": null,
   "metadata": {
    "collapsed": true
   },
   "outputs": [],
   "source": []
  }
 ],
 "metadata": {
  "kernelspec": {
   "display_name": "Python 2",
   "language": "python",
   "name": "python2"
  },
  "language_info": {
   "codemirror_mode": {
    "name": "ipython",
    "version": 2
   },
   "file_extension": ".py",
   "mimetype": "text/x-python",
   "name": "python",
   "nbconvert_exporter": "python",
   "pygments_lexer": "ipython2",
   "version": "2.7.11"
  }
 },
 "nbformat": 4,
 "nbformat_minor": 0
}
