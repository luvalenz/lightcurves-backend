{
 "cells": [
  {
   "cell_type": "code",
   "execution_count": 1,
   "metadata": {
    "collapsed": true
   },
   "outputs": [],
   "source": [
    "import numpy as np\n",
    "import pandas as pd\n",
    "from backend.offline.offline_algorithms import Birch"
   ]
  },
  {
   "cell_type": "code",
   "execution_count": 2,
   "metadata": {
    "collapsed": false
   },
   "outputs": [
    {
     "name": "stdout",
     "output_type": "stream",
     "text": [
      "(50, 2)\n"
     ]
    },
    {
     "ename": "AttributeError",
     "evalue": "'Birch' object has no attribute 'add_pandas_data_frame'",
     "output_type": "error",
     "traceback": [
      "\u001b[1;31m---------------------------------------------------------------------------\u001b[0m",
      "\u001b[1;31mAttributeError\u001b[0m                            Traceback (most recent call last)",
      "\u001b[1;32m<ipython-input-2-cb6c61376d93>\u001b[0m in \u001b[0;36m<module>\u001b[1;34m()\u001b[0m\n\u001b[0;32m     22\u001b[0m \u001b[0mthreshold\u001b[0m \u001b[1;33m=\u001b[0m \u001b[1;36m3\u001b[0m\u001b[1;33m\u001b[0m\u001b[0m\n\u001b[0;32m     23\u001b[0m \u001b[0mbrc\u001b[0m \u001b[1;33m=\u001b[0m \u001b[0mBirch\u001b[0m\u001b[1;33m(\u001b[0m\u001b[0mthreshold\u001b[0m\u001b[1;33m,\u001b[0m \u001b[1;34m'd1'\u001b[0m\u001b[1;33m,\u001b[0m \u001b[1;34m'r'\u001b[0m\u001b[1;33m,\u001b[0m \u001b[1;36m2\u001b[0m\u001b[1;33m)\u001b[0m\u001b[1;33m\u001b[0m\u001b[0m\n\u001b[1;32m---> 24\u001b[1;33m \u001b[0mbrc\u001b[0m\u001b[1;33m.\u001b[0m\u001b[0madd_pandas_data_frame\u001b[0m\u001b[1;33m(\u001b[0m\u001b[0mdf\u001b[0m\u001b[1;33m)\u001b[0m\u001b[1;33m\u001b[0m\u001b[0m\n\u001b[0m\u001b[0;32m     25\u001b[0m \u001b[0mX\u001b[0m \u001b[1;33m=\u001b[0m \u001b[0mX\u001b[0m\u001b[1;33m\u001b[0m\u001b[0m\n\u001b[0;32m     26\u001b[0m \u001b[1;31m#brc.add_pandas_data_frame(df3)\u001b[0m\u001b[1;33m\u001b[0m\u001b[1;33m\u001b[0m\u001b[0m\n",
      "\u001b[1;31mAttributeError\u001b[0m: 'Birch' object has no attribute 'add_pandas_data_frame'"
     ]
    }
   ],
   "source": [
    "mean1 = [10, 10]\n",
    "mean2 = [20, 20]\n",
    "mean3 = [30, 30]\n",
    "mean4 = [40, 40]\n",
    "mean5 = [50, 50]\n",
    "cov1 = [[2.5, 0], [0, 2.5]]\n",
    "cov2 = [[1, 0], [0, 1]]\n",
    "n = 10\n",
    "X1= np.random.multivariate_normal(mean1, cov1, n)\n",
    "X2= np.random.multivariate_normal(mean2, cov1, n)\n",
    "X3= np.random.multivariate_normal(mean3, cov1, n)\n",
    "X4 = np.random.multivariate_normal(mean4, cov2, n)\n",
    "X5 = np.random.multivariate_normal(mean5, cov2, n)\n",
    "X = np.vstack((X1, X2, X3, X4, X5))\n",
    "# np.save('test_array', X)\n",
    "\n",
    "\n",
    "#X = np.load('test_array.npy')\n",
    "print(X.shape)\n",
    "df = pd.DataFrame(X)\n",
    "\n",
    "threshold = 3\n",
    "brc = Birch(threshold, 'd1', 'r', 2)\n",
    "brc.add_pandas_data_frame(df)\n",
    "X = X\n",
    "#brc.add_pandas_data_frame(df3)\n",
    "# brc.add_pandas_data_frame(df4)\n",
    "# brc.add_pandas_data_frame(df5)\n",
    "print(brc.labels)\n",
    "\n",
    "import matplotlib.pyplot as plt\n",
    "labels = brc.labels[np.argsort(brc.labels[:,0]),1].astype(np.int32)\n",
    "unique_labels = brc.unique_labels\n",
    "colors = plt.cm.Spectral(np.linspace(0, 1, len(unique_labels)))\n",
    "centers = brc.centers\n",
    "print centers\n",
    "\n",
    "\n",
    "plt.plot(centers[:, 0], centers[:, 1], 'x')\n",
    "for center, label in zip(centers, range(max(labels) + 1)) :\n",
    "    print center\n",
    "    class_member_mask = (labels == label)\n",
    "    X_class = X[class_member_mask]\n",
    "    radius = 0\n",
    "    for member in X_class:\n",
    "        distance = np.linalg.norm(member - center)\n",
    "        if distance > radius:\n",
    "            radius = distance\n",
    "    print radius\n",
    "    circle = plt.Circle(center,radius,color='r',fill=False)\n",
    "    plt.gca().add_artist(circle)\n",
    "for label, col in zip(unique_labels, colors):\n",
    "    class_member_mask = (labels == label)\n",
    "    X_class = X[class_member_mask]\n",
    "    plt.plot(X_class[:, 0], X_class[:, 1], 'o', markerfacecolor=col)\n",
    "plt.show()"
   ]
  },
  {
   "cell_type": "code",
   "execution_count": null,
   "metadata": {
    "collapsed": true
   },
   "outputs": [],
   "source": []
  }
 ],
 "metadata": {
  "kernelspec": {
   "display_name": "Python 2",
   "language": "python",
   "name": "python2"
  },
  "language_info": {
   "codemirror_mode": {
    "name": "ipython",
    "version": 2
   },
   "file_extension": ".py",
   "mimetype": "text/x-python",
   "name": "python",
   "nbconvert_exporter": "python",
   "pygments_lexer": "ipython2",
   "version": "2.7.11"
  }
 },
 "nbformat": 4,
 "nbformat_minor": 0
}
