{
 "cells": [
  {
   "cell_type": "code",
   "execution_count": 2,
   "metadata": {
    "collapsed": true
   },
   "outputs": [],
   "source": [
    "from backend.data_model.time_series import MachoFileDataBase\n",
    "from backend.data_model.time_series import MultibandTimeSeries\n",
    "from backend.data_model.time_series import TimeSeriesBand\n",
    "from backend.data_model.time_series import TimeSeriesMongoDataBase"
   ]
  },
  {
   "cell_type": "code",
   "execution_count": 2,
   "metadata": {
    "collapsed": false
   },
   "outputs": [],
   "source": [
    "database = TimeSeriesMongoDataBase('localhost', 27017, 'lightcurves')"
   ]
  },
  {
   "cell_type": "code",
   "execution_count": 3,
   "metadata": {
    "collapsed": false,
    "scrolled": true
   },
   "outputs": [],
   "source": [
    "database.setup(['macho'])"
   ]
  },
  {
   "cell_type": "code",
   "execution_count": 4,
   "metadata": {
    "collapsed": false
   },
   "outputs": [],
   "source": [
    "features_path = '/media/lucas/115d830f-0d51-49ad-8a2f-84544fbab639/MACHO_features_Harmonics'\n",
    "light_curves_path = '/media/lucas/115d830f-0d51-49ad-8a2f-84544fbab639/MACHO_LMC'\n",
    "macho_db = MachoFileDataBase(light_curves_path, features_path)\n",
    "lc = macho_db.get_one('1.3567.1310')\n",
    "database.add_one('macho', lc)"
   ]
  },
  {
   "cell_type": "code",
   "execution_count": 5,
   "metadata": {
    "collapsed": false
   },
   "outputs": [],
   "source": [
    "lc2 = macho_db.get_one('1.4176.155')\n",
    "lc3 = macho_db.get_one('1.4410.291')\n",
    "lc2.fold()\n",
    "lc3.fold()"
   ]
  },
  {
   "cell_type": "code",
   "execution_count": 6,
   "metadata": {
    "collapsed": false
   },
   "outputs": [],
   "source": [
    "database.add_many('macho', [lc2, lc3])"
   ]
  },
  {
   "cell_type": "code",
   "execution_count": 7,
   "metadata": {
    "collapsed": false
   },
   "outputs": [],
   "source": [
    "lc2_ = database.get_one('macho', '1.4176.155')"
   ]
  },
  {
   "cell_type": "code",
   "execution_count": 8,
   "metadata": {
    "collapsed": false
   },
   "outputs": [
    {
     "data": {
      "text/plain": [
       "array([-7.347, -7.332, -7.27 , ..., -7.01 , -7.014, -7.008])"
      ]
     },
     "execution_count": 8,
     "metadata": {},
     "output_type": "execute_result"
    }
   ],
   "source": [
    "lc2['B'].values"
   ]
  },
  {
   "cell_type": "code",
   "execution_count": 9,
   "metadata": {
    "collapsed": false
   },
   "outputs": [
    {
     "data": {
      "text/plain": [
       "array([-6.818, -6.778, -6.903, ..., -6.577, -6.594, -6.58 ])"
      ]
     },
     "execution_count": 9,
     "metadata": {},
     "output_type": "execute_result"
    }
   ],
   "source": [
    "lc2['R'].values"
   ]
  },
  {
   "cell_type": "code",
   "execution_count": 10,
   "metadata": {
    "collapsed": false
   },
   "outputs": [],
   "source": [
    "l = database.get_many('macho', ['1.3567.1310', '1.4176.155'])"
   ]
  },
  {
   "cell_type": "code",
   "execution_count": 11,
   "metadata": {
    "collapsed": false,
    "scrolled": true
   },
   "outputs": [
    {
     "data": {
      "text/plain": [
       "{u'Amplitude': 0.1379999999999999,\n",
       " u'AndersonDarling': 1.0,\n",
       " u'Autocor_length': 233.0,\n",
       " u'Beyond1Std': 0.3869047619047619,\n",
       " u'CAR_mean': -0.2387172440868743,\n",
       " u'CAR_sigma': -0.02303605284085878,\n",
       " u'CAR_tau': 29.774063914740047,\n",
       " u'Color': -0.3352223431330543,\n",
       " u'Con': 0.0,\n",
       " u'Eta_color': 1109.879537411326,\n",
       " u'Eta_e': 98.254889527581,\n",
       " u'FluxPercentileRatioMid20': 0.20717131474103398,\n",
       " u'FluxPercentileRatioMid35': 0.3824701195219122,\n",
       " u'FluxPercentileRatioMid50': 0.5816733067729072,\n",
       " u'FluxPercentileRatioMid65': 0.7250996015936225,\n",
       " u'FluxPercentileRatioMid80': 0.8884462151394406,\n",
       " u'Freq1_harmonics_amplitude_0': 0.14621599140548253,\n",
       " u'Freq1_harmonics_amplitude_1': 0.09023181997479324,\n",
       " u'Freq1_harmonics_amplitude_2': 0.07577777036779809,\n",
       " u'Freq1_harmonics_amplitude_3': 0.06200416702779048,\n",
       " u'Freq1_harmonics_rel_phase_0': 0.0,\n",
       " u'Freq1_harmonics_rel_phase_1': 1.6291130523402317,\n",
       " u'Freq1_harmonics_rel_phase_2': 1.2827456374029989,\n",
       " u'Freq1_harmonics_rel_phase_3': 0.6829655006488077,\n",
       " u'Freq2_harmonics_amplitude_0': 0.1713652258160826,\n",
       " u'Freq2_harmonics_amplitude_1': 0.1629612923508356,\n",
       " u'Freq2_harmonics_amplitude_2': 0.061229738245496435,\n",
       " u'Freq2_harmonics_amplitude_3': 0.03416585465156907,\n",
       " u'Freq2_harmonics_rel_phase_0': 0.0,\n",
       " u'Freq2_harmonics_rel_phase_1': 1.4551156186001126,\n",
       " u'Freq2_harmonics_rel_phase_2': 0.4887618545640582,\n",
       " u'Freq2_harmonics_rel_phase_3': 0.815635009285939,\n",
       " u'Freq3_harmonics_amplitude_0': 0.12616163909754372,\n",
       " u'Freq3_harmonics_amplitude_1': 0.05996936803589833,\n",
       " u'Freq3_harmonics_amplitude_2': 0.046240604245065264,\n",
       " u'Freq3_harmonics_amplitude_3': 0.019152353747434243,\n",
       " u'Freq3_harmonics_rel_phase_0': 0.0,\n",
       " u'Freq3_harmonics_rel_phase_1': -1.3905283558111339,\n",
       " u'Freq3_harmonics_rel_phase_2': 0.5813144904663617,\n",
       " u'Freq3_harmonics_rel_phase_3': -0.06246534902874934,\n",
       " u'LinearTrend': 0.00010731032472021472,\n",
       " u'MaxSlope': 6.362237042665233,\n",
       " u'Mean': -7.107582482993196,\n",
       " u'Meanvariance': -0.011991198799500157,\n",
       " u'MedianAbsDev': 0.06599999999999984,\n",
       " u'MedianBRP': 0.4906462585034014,\n",
       " u'PairSlopeTrend': -0.1,\n",
       " u'PercentAmplitude': -0.054122621564481964,\n",
       " u'PercentDifferenceFluxPercentile': -0.035377026074700536,\n",
       " u'PeriodLS': 5445.695555999992,\n",
       " u'Period_fit': 9.522363810740802e-201,\n",
       " u'Psi_CS': 0.4034661838533136,\n",
       " u'Psi_eta': 0.2394440737681277,\n",
       " u'Q31': 0.1459999999999999,\n",
       " u'Q31_color': 0.06400000000000006,\n",
       " u'Rcs': 0.4034661838533136,\n",
       " u'Skew': -0.17371747091290196,\n",
       " u'SlottedA_length': 2.522272000074736,\n",
       " u'SmallKurtosis': -0.4972846674006482,\n",
       " u'Std': 0.08522843453741634,\n",
       " u'StetsonJ': 5.88095333543193,\n",
       " u'StetsonK': 0.7846371050711177,\n",
       " u'StetsonK_AC': 0.7892628694320764,\n",
       " u'StetsonL': 4.47624735719966}"
      ]
     },
     "execution_count": 11,
     "metadata": {},
     "output_type": "execute_result"
    }
   ],
   "source": [
    "database.get_features('macho', '1.4176.155')"
   ]
  },
  {
   "cell_type": "code",
   "execution_count": 12,
   "metadata": {
    "collapsed": false
   },
   "outputs": [
    {
     "data": {
      "text/plain": [
       "{u'Amplitude': 0.15675000000000014,\n",
       " u'AndersonDarling': 1.0,\n",
       " u'Autocor_length': 145.0,\n",
       " u'Beyond1Std': 0.2827181208053691,\n",
       " u'CAR_mean': -0.01468678825967363,\n",
       " u'CAR_sigma': -0.004240621184851063,\n",
       " u'CAR_tau': 427.7154860175724,\n",
       " u'Color': -0.3039126648678403,\n",
       " u'Con': 0.002521008403361345,\n",
       " u'Eta_color': 333.38245807627897,\n",
       " u'Eta_e': 446.3081653782454,\n",
       " u'FluxPercentileRatioMid20': 0.14598540145985414,\n",
       " u'FluxPercentileRatioMid35': 0.2810218978102188,\n",
       " u'FluxPercentileRatioMid50': 0.4306569343065705,\n",
       " u'FluxPercentileRatioMid65': 0.6350364963503631,\n",
       " u'FluxPercentileRatioMid80': 0.8394160583941588,\n",
       " u'Freq1_harmonics_amplitude_0': 0.0991030788207343,\n",
       " u'Freq1_harmonics_amplitude_1': 0.06582682310929956,\n",
       " u'Freq1_harmonics_amplitude_2': 0.05664528433549255,\n",
       " u'Freq1_harmonics_amplitude_3': 0.020975683816369044,\n",
       " u'Freq1_harmonics_rel_phase_0': 0.0,\n",
       " u'Freq1_harmonics_rel_phase_1': 2.0074911701022238,\n",
       " u'Freq1_harmonics_rel_phase_2': 1.2514713607978811,\n",
       " u'Freq1_harmonics_rel_phase_3': 1.0209460553928043,\n",
       " u'Freq2_harmonics_amplitude_0': 0.05761325322705067,\n",
       " u'Freq2_harmonics_amplitude_1': 0.009725935107449044,\n",
       " u'Freq2_harmonics_amplitude_2': 0.008696865061449713,\n",
       " u'Freq2_harmonics_amplitude_3': 0.004745597560524365,\n",
       " u'Freq2_harmonics_rel_phase_0': 0.0,\n",
       " u'Freq2_harmonics_rel_phase_1': -0.6245993926250121,\n",
       " u'Freq2_harmonics_rel_phase_2': 1.671642822325876,\n",
       " u'Freq2_harmonics_rel_phase_3': 1.297593040986947,\n",
       " u'Freq3_harmonics_amplitude_0': 0.039960096811971095,\n",
       " u'Freq3_harmonics_amplitude_1': 0.02285803039587493,\n",
       " u'Freq3_harmonics_amplitude_2': 0.016337251746465546,\n",
       " u'Freq3_harmonics_amplitude_3': 0.007674881044292564,\n",
       " u'Freq3_harmonics_rel_phase_0': 0.0,\n",
       " u'Freq3_harmonics_rel_phase_1': 1.93327271408944,\n",
       " u'Freq3_harmonics_rel_phase_2': -0.7316231003583296,\n",
       " u'Freq3_harmonics_rel_phase_3': 1.6428719878109932,\n",
       " u'LinearTrend': -3.483402356692723e-05,\n",
       " u'MaxSlope': 21.19116662083267,\n",
       " u'Mean': -6.281766778523482,\n",
       " u'Meanvariance': -0.014132434210175527,\n",
       " u'MedianAbsDev': 0.0495000000000001,\n",
       " u'MedianBRP': 0.6828859060402684,\n",
       " u'PairSlopeTrend': 0.03333333333333333,\n",
       " u'PercentAmplitude': -0.06999603646452643,\n",
       " u'PercentDifferenceFluxPercentile': -0.043440348791121686,\n",
       " u'PeriodLS': 2329.490773714287,\n",
       " u'Period_fit': 1.6115584339861917e-144,\n",
       " u'Psi_CS': 0.3683232140100604,\n",
       " u'Psi_eta': 0.5183952296662493,\n",
       " u'Q31': 0.11800000000000033,\n",
       " u'Q31_color': 0.08025000000000015,\n",
       " u'Rcs': 0.3683232140100419,\n",
       " u'Skew': 0.6688913970541782,\n",
       " u'SlottedA_length': 0.3467010000022128,\n",
       " u'SmallKurtosis': 0.44806639644761015,\n",
       " u'Std': 0.08877665572114939,\n",
       " u'StetsonJ': 2.70044862693592,\n",
       " u'StetsonK': 0.7457042183413477,\n",
       " u'StetsonK_AC': 0.8306276831917121,\n",
       " u'StetsonL': 1.4906981595316595}"
      ]
     },
     "execution_count": 12,
     "metadata": {},
     "output_type": "execute_result"
    }
   ],
   "source": [
    "database.get_features('macho', l[0].id)"
   ]
  },
  {
   "cell_type": "code",
   "execution_count": 13,
   "metadata": {
    "collapsed": false,
    "scrolled": true
   },
   "outputs": [
    {
     "data": {
      "text/plain": [
       "{u'Amplitude': 0.15675000000000014,\n",
       " u'AndersonDarling': 1.0,\n",
       " u'Autocor_length': 145.0,\n",
       " u'Beyond1Std': 0.2827181208053691,\n",
       " u'CAR_mean': -0.01468678825967363,\n",
       " u'CAR_sigma': -0.004240621184851063,\n",
       " u'CAR_tau': 427.7154860175724,\n",
       " u'Color': -0.3039126648678403,\n",
       " u'Con': 0.002521008403361345,\n",
       " u'Eta_color': 333.38245807627897,\n",
       " u'Eta_e': 446.3081653782454,\n",
       " u'FluxPercentileRatioMid20': 0.14598540145985414,\n",
       " u'FluxPercentileRatioMid35': 0.2810218978102188,\n",
       " u'FluxPercentileRatioMid50': 0.4306569343065705,\n",
       " u'FluxPercentileRatioMid65': 0.6350364963503631,\n",
       " u'FluxPercentileRatioMid80': 0.8394160583941588,\n",
       " u'Freq1_harmonics_amplitude_0': 0.0991030788207343,\n",
       " u'Freq1_harmonics_amplitude_1': 0.06582682310929956,\n",
       " u'Freq1_harmonics_amplitude_2': 0.05664528433549255,\n",
       " u'Freq1_harmonics_amplitude_3': 0.020975683816369044,\n",
       " u'Freq1_harmonics_rel_phase_0': 0.0,\n",
       " u'Freq1_harmonics_rel_phase_1': 2.0074911701022238,\n",
       " u'Freq1_harmonics_rel_phase_2': 1.2514713607978811,\n",
       " u'Freq1_harmonics_rel_phase_3': 1.0209460553928043,\n",
       " u'Freq2_harmonics_amplitude_0': 0.05761325322705067,\n",
       " u'Freq2_harmonics_amplitude_1': 0.009725935107449044,\n",
       " u'Freq2_harmonics_amplitude_2': 0.008696865061449713,\n",
       " u'Freq2_harmonics_amplitude_3': 0.004745597560524365,\n",
       " u'Freq2_harmonics_rel_phase_0': 0.0,\n",
       " u'Freq2_harmonics_rel_phase_1': -0.6245993926250121,\n",
       " u'Freq2_harmonics_rel_phase_2': 1.671642822325876,\n",
       " u'Freq2_harmonics_rel_phase_3': 1.297593040986947,\n",
       " u'Freq3_harmonics_amplitude_0': 0.039960096811971095,\n",
       " u'Freq3_harmonics_amplitude_1': 0.02285803039587493,\n",
       " u'Freq3_harmonics_amplitude_2': 0.016337251746465546,\n",
       " u'Freq3_harmonics_amplitude_3': 0.007674881044292564,\n",
       " u'Freq3_harmonics_rel_phase_0': 0.0,\n",
       " u'Freq3_harmonics_rel_phase_1': 1.93327271408944,\n",
       " u'Freq3_harmonics_rel_phase_2': -0.7316231003583296,\n",
       " u'Freq3_harmonics_rel_phase_3': 1.6428719878109932,\n",
       " u'LinearTrend': -3.483402356692723e-05,\n",
       " u'MaxSlope': 21.19116662083267,\n",
       " u'Mean': -6.281766778523482,\n",
       " u'Meanvariance': -0.014132434210175527,\n",
       " u'MedianAbsDev': 0.0495000000000001,\n",
       " u'MedianBRP': 0.6828859060402684,\n",
       " u'PairSlopeTrend': 0.03333333333333333,\n",
       " u'PercentAmplitude': -0.06999603646452643,\n",
       " u'PercentDifferenceFluxPercentile': -0.043440348791121686,\n",
       " u'PeriodLS': 2329.490773714287,\n",
       " u'Period_fit': 1.6115584339861917e-144,\n",
       " u'Psi_CS': 0.3683232140100604,\n",
       " u'Psi_eta': 0.5183952296662493,\n",
       " u'Q31': 0.11800000000000033,\n",
       " u'Q31_color': 0.08025000000000015,\n",
       " u'Rcs': 0.3683232140100419,\n",
       " u'Skew': 0.6688913970541782,\n",
       " u'SlottedA_length': 0.3467010000022128,\n",
       " u'SmallKurtosis': 0.44806639644761015,\n",
       " u'Std': 0.08877665572114939,\n",
       " u'StetsonJ': 2.70044862693592,\n",
       " u'StetsonK': 0.7457042183413477,\n",
       " u'StetsonK_AC': 0.8306276831917121,\n",
       " u'StetsonL': 1.4906981595316595}"
      ]
     },
     "execution_count": 13,
     "metadata": {},
     "output_type": "execute_result"
    }
   ],
   "source": [
    "l[0].feature_dict"
   ]
  },
  {
   "cell_type": "code",
   "execution_count": 14,
   "metadata": {
    "collapsed": false
   },
   "outputs": [],
   "source": [
    "lc._feature_dictionary = {'hola': 'chao','blah':'blah blah'}"
   ]
  },
  {
   "cell_type": "code",
   "execution_count": 15,
   "metadata": {
    "collapsed": false
   },
   "outputs": [],
   "source": [
    "database.update('macho', lc.id, lc)"
   ]
  },
  {
   "cell_type": "code",
   "execution_count": 16,
   "metadata": {
    "collapsed": true
   },
   "outputs": [],
   "source": [
    "database.delete_one('macho', lc.id)"
   ]
  },
  {
   "cell_type": "code",
   "execution_count": 17,
   "metadata": {
    "collapsed": true
   },
   "outputs": [],
   "source": [
    "database.delete_catalog('macho')"
   ]
  },
  {
   "cell_type": "code",
   "execution_count": 18,
   "metadata": {
    "collapsed": true
   },
   "outputs": [],
   "source": [
    "import tarfile\n",
    "tar_path = '/media/lucas/115d830f-0d51-49ad-8a2f-84544fbab639/MACHO_LMC/F_1/3319.tar'\n",
    "tar = tarfile.open(tar_path)"
   ]
  },
  {
   "cell_type": "code",
   "execution_count": 19,
   "metadata": {
    "collapsed": false
   },
   "outputs": [],
   "source": [
    "paths = tar.getnames()"
   ]
  },
  {
   "cell_type": "code",
   "execution_count": 20,
   "metadata": {
    "collapsed": false
   },
   "outputs": [
    {
     "data": {
      "text/plain": [
       "['1.3319.23',\n",
       " '1.3319.26',\n",
       " '1.3319.11',\n",
       " '1.3319.42',\n",
       " '1.3319.65',\n",
       " '1.3319.33',\n",
       " '1.3319.34',\n",
       " '1.3319.53',\n",
       " '1.3319.22',\n",
       " '1.3319.50',\n",
       " '1.3319.17',\n",
       " '1.3319.39',\n",
       " '1.3319.62',\n",
       " '1.3319.29',\n",
       " '1.3319.44',\n",
       " '1.3319.24',\n",
       " '1.3319.10',\n",
       " '1.3319.16',\n",
       " '1.3319.13',\n",
       " '1.3319.54',\n",
       " '1.3319.40',\n",
       " '1.3319.36',\n",
       " '1.3319.51',\n",
       " '1.3319.51',\n",
       " '1.3319.36',\n",
       " '1.3319.41',\n",
       " '1.3319.11',\n",
       " '1.3319.56',\n",
       " '1.3319.22',\n",
       " '1.3319.49',\n",
       " '1.3319.28',\n",
       " '1.3319.14',\n",
       " '1.3319.32',\n",
       " '1.3319.20',\n",
       " '1.3319.47',\n",
       " '1.3319.49',\n",
       " '1.3319.20',\n",
       " '1.3319.38',\n",
       " '1.3319.67',\n",
       " '1.3319.31',\n",
       " '1.3319.28',\n",
       " '1.3319.15',\n",
       " '1.3319.12',\n",
       " '1.3319.35',\n",
       " '1.3319.16',\n",
       " '1.3319.61',\n",
       " '1.3319.35',\n",
       " '1.3319.37',\n",
       " '1.3319.45',\n",
       " '1.3319.60',\n",
       " '1.3319.47',\n",
       " '1.3319.52',\n",
       " '1.3319.57',\n",
       " '1.3319.31',\n",
       " '1.3319.21',\n",
       " '1.3319.46',\n",
       " '1.3319.12',\n",
       " '1.3319.42',\n",
       " '1.3319.48',\n",
       " '1.3319.55',\n",
       " '1.3319.13',\n",
       " '1.3319.10',\n",
       " '1.3319.46',\n",
       " '1.3319.29',\n",
       " '1.3319.18',\n",
       " '1.3319.18',\n",
       " '1.3319.37',\n",
       " '1.3319.54',\n",
       " '1.3319.41',\n",
       " '1.3319.57',\n",
       " '1.3319.26',\n",
       " '1.3319.40',\n",
       " '1.3319.44',\n",
       " '1.3319.30',\n",
       " '1.3319.27',\n",
       " '1.3319.33',\n",
       " '1.3319.66',\n",
       " '1.3319.43',\n",
       " '1.3319.27',\n",
       " '1.3319.14',\n",
       " '1.3319.50',\n",
       " '1.3319.48',\n",
       " '1.3319.19',\n",
       " '1.3319.58',\n",
       " '1.3319.45',\n",
       " '1.3319.63',\n",
       " '1.3319.60',\n",
       " '1.3319.17',\n",
       " '1.3319.39',\n",
       " '1.3319.32',\n",
       " '1.3319.25',\n",
       " '1.3319.19',\n",
       " '1.3319.64',\n",
       " '1.3319.23',\n",
       " '1.3319.30',\n",
       " '1.3319.34',\n",
       " '1.3319.15',\n",
       " '1.3319.21',\n",
       " '1.3319.59',\n",
       " '1.3319.38']"
      ]
     },
     "execution_count": 20,
     "metadata": {},
     "output_type": "execute_result"
    }
   ],
   "source": [
    "[path.split('_')[-1][:-6] for path in paths if path.endswith('.mjd')]"
   ]
  },
  {
   "cell_type": "code",
   "execution_count": 1,
   "metadata": {
    "collapsed": false
   },
   "outputs": [],
   "source": [
    "from backend.data_model.time_series import MachoFileDataBase\n",
    "from backend.data_model.time_series import MultibandTimeSeries\n",
    "from backend.data_model.time_series import TimeSeriesBand\n",
    "from backend.data_model.time_series import TimeSeriesMongoDataBase\n",
    "\n",
    "features_path = '/media/lucas/115d830f-0d51-49ad-8a2f-84544fbab639/MACHO_features_Harmonics'\n",
    "light_curves_path = '/media/lucas/115d830f-0d51-49ad-8a2f-84544fbab639/MACHO_LMC'\n",
    "macho_db = MachoFileDataBase(light_curves_path, features_path)\n",
    "l = macho_db.get_many_dict(1, 3319)"
   ]
  },
  {
   "cell_type": "code",
   "execution_count": 2,
   "metadata": {
    "collapsed": false
   },
   "outputs": [
    {
     "name": "stdout",
     "output_type": "stream",
     "text": [
      "100\n"
     ]
    },
    {
     "data": {
      "text/plain": [
       "100"
      ]
     },
     "execution_count": 2,
     "metadata": {},
     "output_type": "execute_result"
    }
   ],
   "source": [
    "l = macho_db.get_many(1, 3319)\n",
    "len(l)"
   ]
  },
  {
   "cell_type": "code",
   "execution_count": 4,
   "metadata": {
    "collapsed": false
   },
   "outputs": [],
   "source": [
    "tiles = macho_db.get_tiles_in_field(1)"
   ]
  },
  {
   "cell_type": "code",
   "execution_count": null,
   "metadata": {
    "collapsed": true
   },
   "outputs": [],
   "source": [
    "l"
   ]
  }
 ],
 "metadata": {
  "kernelspec": {
   "display_name": "Python 2",
   "language": "python",
   "name": "python2"
  },
  "language_info": {
   "codemirror_mode": {
    "name": "ipython",
    "version": 2
   },
   "file_extension": ".py",
   "mimetype": "text/x-python",
   "name": "python",
   "nbconvert_exporter": "python",
   "pygments_lexer": "ipython2",
   "version": "2.7.11"
  }
 },
 "nbformat": 4,
 "nbformat_minor": 0
}
