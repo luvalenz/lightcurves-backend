{
 "cells": [
  {
   "cell_type": "code",
   "execution_count": 9,
   "metadata": {
    "collapsed": false
   },
   "outputs": [],
   "source": [
    "import pymongo"
   ]
  },
  {
   "cell_type": "code",
   "execution_count": 10,
   "metadata": {
    "collapsed": true
   },
   "outputs": [],
   "source": [
    "from pymongo import MongoClient\n",
    "client = MongoClient()\n",
    "client = MongoClient('localhost', 27017)\n",
    "db = client['test-database']\n",
    "collection = db['test-collection']"
   ]
  },
  {
   "cell_type": "code",
   "execution_count": 37,
   "metadata": {
    "collapsed": false
   },
   "outputs": [],
   "source": [
    "import datetime\n",
    "post = {\"id\": \"123\", \"author\": \"Mike\", \"text\": \"My first blog post!\", \"tags\": [\"mongodb\", \"python\", \"pymongo\"], \"date\": datetime.datetime.utcnow()}"
   ]
  },
  {
   "cell_type": "code",
   "execution_count": 38,
   "metadata": {
    "collapsed": false
   },
   "outputs": [
    {
     "data": {
      "text/plain": [
       "<pymongo.results.InsertOneResult at 0x7f59a94ac288>"
      ]
     },
     "execution_count": 38,
     "metadata": {},
     "output_type": "execute_result"
    }
   ],
   "source": [
    "posts = db['posts']\n",
    "posts.insert_one(post)"
   ]
  },
  {
   "cell_type": "code",
   "execution_count": 39,
   "metadata": {
    "collapsed": false
   },
   "outputs": [
    {
     "data": {
      "text/plain": [
       "[{'_id': ObjectId('56ce68a7e264ce12fd3d3bee'),\n",
       "  'author': 'Mike',\n",
       "  'date': datetime.datetime(2016, 2, 25, 2, 36, 22, 648000),\n",
       "  'tags': ['mongodb', 'python', 'pymongo'],\n",
       "  'text': 'My first blog post!'},\n",
       " {'_id': '123',\n",
       "  'author': 'Mike',\n",
       "  'date': datetime.datetime(2016, 2, 25, 2, 59, 8, 55000),\n",
       "  'tags': ['mongodb', 'python', 'pymongo'],\n",
       "  'text': 'My first blog post!'},\n",
       " {'_id': ObjectId('56ce7090e264ce12fd3d3bef'),\n",
       "  'author': 'Mike',\n",
       "  'date': datetime.datetime(2016, 2, 25, 3, 10, 7, 929000),\n",
       "  'id': '123',\n",
       "  'tags': ['mongodb', 'python', 'pymongo'],\n",
       "  'text': 'My first blog post!'}]"
      ]
     },
     "execution_count": 39,
     "metadata": {},
     "output_type": "execute_result"
    }
   ],
   "source": [
    "cursor = posts.find({})\n",
    "list(cursor)"
   ]
  },
  {
   "cell_type": "code",
   "execution_count": 42,
   "metadata": {
    "collapsed": false
   },
   "outputs": [
    {
     "data": {
      "text/plain": [
       "[{'_id': ObjectId('56ce7090e264ce12fd3d3bef'),\n",
       "  'author': 'Mike',\n",
       "  'date': datetime.datetime(2016, 2, 25, 3, 10, 7, 929000),\n",
       "  'id': '123',\n",
       "  'tags': ['mongodb', 'python', 'pymongo'],\n",
       "  'text': 'My first blog post!'}]"
      ]
     },
     "execution_count": 42,
     "metadata": {},
     "output_type": "execute_result"
    }
   ],
   "source": [
    "list(posts.find({'id':'123'}))"
   ]
  },
  {
   "cell_type": "code",
   "execution_count": 25,
   "metadata": {
    "collapsed": false
   },
   "outputs": [
    {
     "data": {
      "text/plain": [
       "[{'_id': ObjectId('56ce68a7e264ce12fd3d3bee'),\n",
       "  'author': 'Mike',\n",
       "  'date': datetime.datetime(2016, 2, 25, 2, 36, 22, 648000),\n",
       "  'tags': ['mongodb', 'python', 'pymongo'],\n",
       "  'text': 'My first blog post!'}]"
      ]
     },
     "execution_count": 25,
     "metadata": {},
     "output_type": "execute_result"
    }
   ],
   "source": [
    "a"
   ]
  },
  {
   "cell_type": "code",
   "execution_count": 43,
   "metadata": {
    "collapsed": false
   },
   "outputs": [
    {
     "data": {
      "text/plain": [
       "['posts']"
      ]
     },
     "execution_count": 43,
     "metadata": {},
     "output_type": "execute_result"
    }
   ],
   "source": [
    "db.collection_names()"
   ]
  },
  {
   "cell_type": "code",
   "execution_count": 44,
   "metadata": {
    "collapsed": false
   },
   "outputs": [
    {
     "data": {
      "text/plain": [
       "[]"
      ]
     },
     "execution_count": 44,
     "metadata": {},
     "output_type": "execute_result"
    }
   ],
   "source": [
    "db = client['a']\n",
    "db.collection_names()"
   ]
  },
  {
   "cell_type": "code",
   "execution_count": null,
   "metadata": {
    "collapsed": true
   },
   "outputs": [],
   "source": []
  }
 ],
 "metadata": {
  "kernelspec": {
   "display_name": "Python 3",
   "language": "python",
   "name": "python3"
  },
  "language_info": {
   "codemirror_mode": {
    "name": "ipython",
    "version": 3
   },
   "file_extension": ".py",
   "mimetype": "text/x-python",
   "name": "python",
   "nbconvert_exporter": "python",
   "pygments_lexer": "ipython3",
   "version": "3.5.1"
  }
 },
 "nbformat": 4,
 "nbformat_minor": 0
}
