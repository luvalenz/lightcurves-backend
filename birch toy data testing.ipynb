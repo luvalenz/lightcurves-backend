{
 "cells": [
  {
   "cell_type": "code",
   "execution_count": 7,
   "metadata": {
    "collapsed": true
   },
   "outputs": [],
   "source": [
    "from backend.offline.offline_algorithms import Birch\n",
    "import numpy as np\n",
    "import pandas as pd\n",
    "import matplotlib.pyplot as plt\n",
    "import string\n",
    "\n",
    "def add_data_frame(birch, df):\n",
    "    index = df.index.values\n",
    "    values = df.values\n",
    "    for i, v in zip(index, values):\n",
    "        birch._add_data_point(i, v)"
   ]
  },
  {
   "cell_type": "code",
   "execution_count": 8,
   "metadata": {
    "collapsed": false
   },
   "outputs": [],
   "source": [
    "def plot_clustering(centers, labels, unique_labels, X):\n",
    "    plt.plot(centers[:, 0], centers[:, 1], 'x')\n",
    "    colors = plt.cm.Spectral(np.linspace(0, 1, len(unique_labels)))\n",
    "    for center, label in zip(centers, range(max(labels) + 1)) :\n",
    "        #print center\n",
    "        class_member_mask = (labels == label)\n",
    "        X_class = X[class_member_mask]\n",
    "        radius = 0\n",
    "        for member in X_class:\n",
    "            distance = np.linalg.norm(member - center)\n",
    "            if distance > radius:\n",
    "                radius = distance\n",
    "        #print radius\n",
    "        circle = plt.Circle(center,radius,color='r',fill=False)\n",
    "        plt.gca().add_artist(circle)\n",
    "    for label, col in zip(unique_labels, colors):\n",
    "        class_member_mask = (labels == label)\n",
    "        X_class = X[class_member_mask]\n",
    "        plt.plot(X_class[:, 0], X_class[:, 1], 'o', markerfacecolor=col)\n",
    "    plt.show()\n",
    "    \n",
    "def plot_cluster_list(centers, clusters, df):\n",
    "    plt.plot(centers[:, 0], centers[:, 1], 'x')\n",
    "    colors = plt.cm.Spectral(np.linspace(0, 1, len(clusters)))\n",
    "    for cluster_indices, col in zip(clusters, colors):\n",
    "        cluster_data = df.loc[cluster_indices].values\n",
    "        plt.plot(cluster_data[:, 0], cluster_data[:, 1], 'o', markerfacecolor=col)\n",
    "    plt.show()\n",
    "    \n",
    "def test(birch, df):\n",
    "    #print birch.count\n",
    "    #print birch.is_fitted(mode='local')\n",
    "    #print brc.is_fitted(mode='global')\n",
    "    #print('')\n",
    "    #print birch.get_number_of_clusters(mode='local')\n",
    "    #print birch.get_number_of_clusters(mode='global')\n",
    "    local_centers, local_clusters = birch.get_cluster_list(mode='local')\n",
    "    global_centers, global_clusters = birch.get_cluster_list(mode='global')\n",
    "    #print(local_centers)\n",
    "    #print(local_clusters)\n",
    "    print(global_centers)\n",
    "    print(global_clusters)\n",
    "    #print(len(local_centers))\n",
    "    #print(len(global_centers))\n",
    "    plot_cluster_list(local_centers, local_clusters, df)\n",
    "    plot_cluster_list(global_centers, global_clusters, df)"
   ]
  },
  {
   "cell_type": "code",
   "execution_count": 9,
   "metadata": {
    "collapsed": false
   },
   "outputs": [
    {
     "ename": "TypeError",
     "evalue": "'NoneType' object has no attribute '__getitem__'",
     "output_type": "error",
     "traceback": [
      "\u001b[1;31m---------------------------------------------------------------------------\u001b[0m",
      "\u001b[1;31mTypeError\u001b[0m                                 Traceback (most recent call last)",
      "\u001b[1;32m<ipython-input-9-c38e4c547a2d>\u001b[0m in \u001b[0;36m<module>\u001b[1;34m()\u001b[0m\n\u001b[0;32m     31\u001b[0m \u001b[0mbrc\u001b[0m \u001b[1;33m=\u001b[0m \u001b[0mBirch\u001b[0m\u001b[1;33m(\u001b[0m\u001b[0mthreshold\u001b[0m\u001b[1;33m,\u001b[0m \u001b[1;34m'd1'\u001b[0m\u001b[1;33m,\u001b[0m \u001b[1;34m'r'\u001b[0m\u001b[1;33m,\u001b[0m \u001b[1;36m4\u001b[0m\u001b[1;33m,\u001b[0m \u001b[0mFalse\u001b[0m\u001b[1;33m,\u001b[0m \u001b[1;36m0.1\u001b[0m\u001b[1;33m)\u001b[0m\u001b[1;33m\u001b[0m\u001b[0m\n\u001b[0;32m     32\u001b[0m \u001b[0madd_data_frame\u001b[0m\u001b[1;33m(\u001b[0m\u001b[0mbrc\u001b[0m\u001b[1;33m,\u001b[0m \u001b[0mdf\u001b[0m\u001b[1;33m.\u001b[0m\u001b[0miloc\u001b[0m\u001b[1;33m[\u001b[0m\u001b[1;36m0\u001b[0m\u001b[1;33m:\u001b[0m\u001b[1;36m40\u001b[0m\u001b[1;33m]\u001b[0m\u001b[1;33m)\u001b[0m\u001b[1;33m\u001b[0m\u001b[0m\n\u001b[1;32m---> 33\u001b[1;33m \u001b[0mtest\u001b[0m\u001b[1;33m(\u001b[0m\u001b[0mbrc\u001b[0m\u001b[1;33m,\u001b[0m \u001b[0mdf\u001b[0m\u001b[1;33m)\u001b[0m\u001b[1;33m\u001b[0m\u001b[0m\n\u001b[0m\u001b[0;32m     34\u001b[0m \u001b[1;33m\u001b[0m\u001b[0m\n\u001b[0;32m     35\u001b[0m \u001b[1;31m#### Incremental adding\u001b[0m\u001b[1;33m\u001b[0m\u001b[1;33m\u001b[0m\u001b[0m\n",
      "\u001b[1;32m<ipython-input-8-1170561df93e>\u001b[0m in \u001b[0;36mtest\u001b[1;34m(birch, df)\u001b[0m\n\u001b[0;32m     35\u001b[0m     \u001b[1;31m#print birch.get_number_of_clusters(mode='local')\u001b[0m\u001b[1;33m\u001b[0m\u001b[1;33m\u001b[0m\u001b[0m\n\u001b[0;32m     36\u001b[0m     \u001b[1;31m#print birch.get_number_of_clusters(mode='global')\u001b[0m\u001b[1;33m\u001b[0m\u001b[1;33m\u001b[0m\u001b[0m\n\u001b[1;32m---> 37\u001b[1;33m     \u001b[0mlocal_centers\u001b[0m\u001b[1;33m,\u001b[0m \u001b[0mlocal_clusters\u001b[0m \u001b[1;33m=\u001b[0m \u001b[0mbirch\u001b[0m\u001b[1;33m.\u001b[0m\u001b[0mget_cluster_list\u001b[0m\u001b[1;33m(\u001b[0m\u001b[0mmode\u001b[0m\u001b[1;33m=\u001b[0m\u001b[1;34m'local'\u001b[0m\u001b[1;33m)\u001b[0m\u001b[1;33m\u001b[0m\u001b[0m\n\u001b[0m\u001b[0;32m     38\u001b[0m     \u001b[0mglobal_centers\u001b[0m\u001b[1;33m,\u001b[0m \u001b[0mglobal_clusters\u001b[0m \u001b[1;33m=\u001b[0m \u001b[0mbirch\u001b[0m\u001b[1;33m.\u001b[0m\u001b[0mget_cluster_list\u001b[0m\u001b[1;33m(\u001b[0m\u001b[0mmode\u001b[0m\u001b[1;33m=\u001b[0m\u001b[1;34m'global'\u001b[0m\u001b[1;33m)\u001b[0m\u001b[1;33m\u001b[0m\u001b[0m\n\u001b[0;32m     39\u001b[0m     \u001b[1;31m#print(local_centers)\u001b[0m\u001b[1;33m\u001b[0m\u001b[1;33m\u001b[0m\u001b[0m\n",
      "\u001b[1;32m/home/lucas/PycharmProjects/lightcurves-backend/backend/offline/offline_algorithms.py\u001b[0m in \u001b[0;36mget_cluster_list\u001b[1;34m(self, **kwargs)\u001b[0m\n\u001b[0;32m     86\u001b[0m         \u001b[1;32melse\u001b[0m\u001b[1;33m:\u001b[0m\u001b[1;33m\u001b[0m\u001b[0m\n\u001b[0;32m     87\u001b[0m             \u001b[0mlabeled_data\u001b[0m \u001b[1;33m=\u001b[0m \u001b[0mself\u001b[0m\u001b[1;33m.\u001b[0m\u001b[0mlocally_labeled_data\u001b[0m\u001b[1;33m\u001b[0m\u001b[0m\n\u001b[1;32m---> 88\u001b[1;33m             \u001b[0munique_labels\u001b[0m \u001b[1;33m=\u001b[0m \u001b[0mself\u001b[0m\u001b[1;33m.\u001b[0m\u001b[0munique_local_labels\u001b[0m\u001b[1;33m\u001b[0m\u001b[0m\n\u001b[0m\u001b[0;32m     89\u001b[0m             \u001b[0mcenters\u001b[0m \u001b[1;33m=\u001b[0m \u001b[0mself\u001b[0m\u001b[1;33m.\u001b[0m\u001b[0mcenters\u001b[0m\u001b[1;33m\u001b[0m\u001b[0m\n\u001b[0;32m     90\u001b[0m         \u001b[0mcluster_list\u001b[0m \u001b[1;33m=\u001b[0m \u001b[1;33m[\u001b[0m\u001b[1;33m]\u001b[0m\u001b[1;33m\u001b[0m\u001b[0m\n",
      "\u001b[1;32m/home/lucas/PycharmProjects/lightcurves-backend/backend/offline/offline_algorithms.py\u001b[0m in \u001b[0;36munique_local_labels\u001b[1;34m(self)\u001b[0m\n\u001b[0;32m    177\u001b[0m         \u001b[1;32mif\u001b[0m \u001b[1;32mnot\u001b[0m \u001b[0mself\u001b[0m\u001b[1;33m.\u001b[0m\u001b[0mhas_local_labels\u001b[0m\u001b[1;33m:\u001b[0m\u001b[1;33m\u001b[0m\u001b[0m\n\u001b[0;32m    178\u001b[0m             \u001b[0mself\u001b[0m\u001b[1;33m.\u001b[0m\u001b[0m_generate_labels\u001b[0m\u001b[1;33m(\u001b[0m\u001b[1;33m)\u001b[0m\u001b[1;33m\u001b[0m\u001b[0m\n\u001b[1;32m--> 179\u001b[1;33m         return list(set(self.locally_labeled_data[:,1].astype(np.float32)\n\u001b[0m\u001b[0;32m    180\u001b[0m                         .astype(np.int32).tolist()))\n\u001b[0;32m    181\u001b[0m \u001b[1;33m\u001b[0m\u001b[0m\n",
      "\u001b[1;31mTypeError\u001b[0m: 'NoneType' object has no attribute '__getitem__'"
     ]
    }
   ],
   "source": [
    "mean1 = [10, 10]\n",
    "mean2 = [20, 20]\n",
    "mean3 = [30, 30]\n",
    "mean4 = [40, 40]\n",
    "mean5 = [50, 50]\n",
    "cov1 = [[2.5, 0], [0, 2.5]]\n",
    "cov2 = [[1, 0], [0, 1]]\n",
    "n = 50\n",
    "X1= np.random.multivariate_normal(mean1, cov1, n)\n",
    "X2= np.random.multivariate_normal(mean2, cov1, n)\n",
    "X3= np.random.multivariate_normal(mean3, cov1, n)\n",
    "X4 = np.random.multivariate_normal(mean4, cov2, n)\n",
    "X5 = np.random.multivariate_normal(mean5, cov2, n)\n",
    "X6 = np.random.uniform(0, 50, 2*n).reshape((n,2))\n",
    "X1_4 = np.vstack((X1, X2, X3, X4))\n",
    "order = np.arange(len(X1_4))\n",
    "np.random.shuffle(order)\n",
    "X1_4 = X1_4[order]\n",
    "X = np.vstack((X1_4, X5))\n",
    "#print X\n",
    "# np.save('test_array', X)\n",
    "plt.plot(X[:, 0], X[:, 1], '*')\n",
    "plt.show()\n",
    "\n",
    "df = pd.DataFrame(X, index=[hex(i) for i in range(len(X))])\n",
    "#df = pd.DataFrame(X)\n",
    "#print(df)\n",
    "\n",
    "\n",
    "threshold = 2\n",
    "brc = Birch(threshold, 'd1', 'r', 4, False, 0.1)\n",
    "add_data_frame(brc, df.iloc[0:40])\n",
    "test(brc, df)\n",
    "\n",
    "#### Incremental adding\n",
    "\n",
    "add_data_frame(brc, df.iloc[40:])\n",
    "test(brc, df)\n"
   ]
  },
  {
   "cell_type": "code",
   "execution_count": 9,
   "metadata": {
    "collapsed": false
   },
   "outputs": [
    {
     "data": {
      "text/plain": [
       "[0, 1, 2, 3]"
      ]
     },
     "execution_count": 9,
     "metadata": {},
     "output_type": "execute_result"
    }
   ],
   "source": [
    "brc.unique_global_labels"
   ]
  },
  {
   "cell_type": "code",
   "execution_count": null,
   "metadata": {
    "collapsed": true
   },
   "outputs": [],
   "source": []
  }
 ],
 "metadata": {
  "kernelspec": {
   "display_name": "Python 2",
   "language": "python",
   "name": "python2"
  },
  "language_info": {
   "codemirror_mode": {
    "name": "ipython",
    "version": 2
   },
   "file_extension": ".py",
   "mimetype": "text/x-python",
   "name": "python",
   "nbconvert_exporter": "python",
   "pygments_lexer": "ipython2",
   "version": "2.7.11"
  }
 },
 "nbformat": 4,
 "nbformat_minor": 0
}
