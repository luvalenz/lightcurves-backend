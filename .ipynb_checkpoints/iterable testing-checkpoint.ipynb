{
 "cells": [
  {
   "cell_type": "code",
   "execution_count": 1,
   "metadata": {
    "collapsed": false
   },
   "outputs": [],
   "source": [
    "from backend.data_model.time_series import MongoTimeSeriesDataBase\n",
    "from backend.data_model.time_series import MongoTimeSeriesIterable\n"
   ]
  },
  {
   "cell_type": "code",
   "execution_count": 2,
   "metadata": {
    "collapsed": false
   },
   "outputs": [],
   "source": [
    "mongodb = MongoTimeSeriesDataBase('lightcurves')"
   ]
  },
  {
   "cell_type": "code",
   "execution_count": 3,
   "metadata": {
    "collapsed": false
   },
   "outputs": [],
   "source": [
    "db = mongodb.db"
   ]
  },
  {
   "cell_type": "code",
   "execution_count": 4,
   "metadata": {
    "collapsed": false
   },
   "outputs": [],
   "source": [
    "cursor1 = db['macho'].find({'id': {'$in': ['1.3319.10', '1.3319.11', '1.3319.12']}})\n",
    "cursor2 = db['macho'].find({'id': {'$in': ['1.3319.13', '1.3319.14', '1.3319.15']}})"
   ]
  },
  {
   "cell_type": "code",
   "execution_count": 5,
   "metadata": {
    "collapsed": false
   },
   "outputs": [
    {
     "name": "stdout",
     "output_type": "stream",
     "text": [
      "1.3319.10\n",
      "1.3319.11\n",
      "1.3319.12\n"
     ]
    }
   ],
   "source": [
    "cursor1.rewind()\n",
    "for i in cursor1:\n",
    "    print i['id']"
   ]
  },
  {
   "cell_type": "code",
   "execution_count": 6,
   "metadata": {
    "collapsed": false
   },
   "outputs": [],
   "source": [
    "it = MongoTimeSeriesIterable([cursor1, cursor2], False)"
   ]
  },
  {
   "cell_type": "code",
   "execution_count": 7,
   "metadata": {
    "collapsed": false
   },
   "outputs": [
    {
     "name": "stdout",
     "output_type": "stream",
     "text": [
      "1.3319.10\n",
      "1.3319.11\n",
      "1.3319.12\n",
      "1.3319.13\n",
      "1.3319.14\n",
      "1.3319.15\n"
     ]
    }
   ],
   "source": [
    "it.rewind()\n",
    "for i in it:\n",
    "    print i.id"
   ]
  },
  {
   "cell_type": "code",
   "execution_count": 8,
   "metadata": {
    "collapsed": false
   },
   "outputs": [],
   "source": [
    "it = MongoTimeSeriesIterable([cursor1, cursor2], True, 4)"
   ]
  },
  {
   "cell_type": "code",
   "execution_count": 9,
   "metadata": {
    "collapsed": false
   },
   "outputs": [
    {
     "name": "stdout",
     "output_type": "stream",
     "text": [
      "[u'1.3319.10', u'1.3319.11', u'1.3319.12', u'1.3319.13']\n",
      "[u'1.3319.14', u'1.3319.15']\n"
     ]
    }
   ],
   "source": [
    "it.rewind()\n",
    "for i in it:\n",
    "    l = [ts.id for ts in i]\n",
    "    print l"
   ]
  },
  {
   "cell_type": "code",
   "execution_count": 10,
   "metadata": {
    "collapsed": false
   },
   "outputs": [
    {
     "data": {
      "text/plain": [
       "[<backend.data_model.time_series.DataMultibandTimeSeries at 0x7f1189e64250>,\n",
       " <backend.data_model.time_series.DataMultibandTimeSeries at 0x7f1155b3dcd0>,\n",
       " <backend.data_model.time_series.DataMultibandTimeSeries at 0x7f1155b3dd90>,\n",
       " <backend.data_model.time_series.DataMultibandTimeSeries at 0x7f1155b3df10>]"
      ]
     },
     "execution_count": 10,
     "metadata": {},
     "output_type": "execute_result"
    }
   ],
   "source": [
    "it.rewind()\n",
    "it.next()"
   ]
  },
  {
   "cell_type": "code",
   "execution_count": 11,
   "metadata": {
    "collapsed": false
   },
   "outputs": [
    {
     "data": {
      "text/plain": [
       "[<backend.data_model.time_series.DataMultibandTimeSeries at 0x7f1156da2fd0>,\n",
       " <backend.data_model.time_series.DataMultibandTimeSeries at 0x7f1156d8e4d0>]"
      ]
     },
     "execution_count": 11,
     "metadata": {},
     "output_type": "execute_result"
    }
   ],
   "source": [
    "it.next()"
   ]
  },
  {
   "cell_type": "code",
   "execution_count": 12,
   "metadata": {
    "collapsed": true
   },
   "outputs": [],
   "source": [
    "from backend.data_model.time_series import MachoFileDataBase\n",
    "from backend.data_model.time_series import MachoTimeSeriesIterable\n",
    "macho_db = MachoFileDataBase(\"/media/lucas/115d830f-0d51-49ad-8a2f-84544fbab639/macho_test\",\n",
    "                \"/media/lucas/115d830f-0d51-49ad-8a2f-84544fbab639/MACHO_features_Harmonics\")"
   ]
  },
  {
   "cell_type": "code",
   "execution_count": 13,
   "metadata": {
    "collapsed": true
   },
   "outputs": [],
   "source": [
    "cursor = macho_db.get_all(1)"
   ]
  },
  {
   "cell_type": "code",
   "execution_count": 14,
   "metadata": {
    "collapsed": false
   },
   "outputs": [
    {
     "name": "stdout",
     "output_type": "stream",
     "text": [
      "1.3319.10\n",
      "1.3320.10\n"
     ]
    }
   ],
   "source": [
    "for collection in cursor:\n",
    "    if len(collection) != 0:\n",
    "        print collection[0].id\n",
    "    else:\n",
    "        print 'empty tile'"
   ]
  },
  {
   "cell_type": "code",
   "execution_count": 15,
   "metadata": {
    "collapsed": true
   },
   "outputs": [],
   "source": [
    "cursor = macho_db.get_all(3)"
   ]
  },
  {
   "cell_type": "code",
   "execution_count": 16,
   "metadata": {
    "collapsed": false
   },
   "outputs": [
    {
     "name": "stdout",
     "output_type": "stream",
     "text": [
      "1.3319.10\n",
      "1.3320.10\n",
      "empty tile\n",
      "empty tile\n",
      "1.3319.10\n",
      "1.3320.10\n"
     ]
    }
   ],
   "source": [
    "for collection in cursor:\n",
    "    if len(collection) != 0:\n",
    "        print collection[0].id\n",
    "    else:\n",
    "        print 'empty tile'"
   ]
  },
  {
   "cell_type": "code",
   "execution_count": 17,
   "metadata": {
    "collapsed": true
   },
   "outputs": [],
   "source": [
    "cursor = macho_db.get_all(1)\n",
    "a = cursor.next()"
   ]
  },
  {
   "cell_type": "code",
   "execution_count": 18,
   "metadata": {
    "collapsed": false
   },
   "outputs": [
    {
     "data": {
      "text/plain": [
       "[<backend.data_model.time_series.DataMultibandTimeSeries at 0x7f1154e32c90>,\n",
       " <backend.data_model.time_series.DataMultibandTimeSeries at 0x7f1154e32e90>,\n",
       " <backend.data_model.time_series.DataMultibandTimeSeries at 0x7f1154898a50>,\n",
       " <backend.data_model.time_series.DataMultibandTimeSeries at 0x7f11548988d0>,\n",
       " <backend.data_model.time_series.DataMultibandTimeSeries at 0x7f1154898b90>,\n",
       " <backend.data_model.time_series.DataMultibandTimeSeries at 0x7f11548981d0>,\n",
       " <backend.data_model.time_series.DataMultibandTimeSeries at 0x7f1154898550>,\n",
       " <backend.data_model.time_series.DataMultibandTimeSeries at 0x7f1154898250>,\n",
       " <backend.data_model.time_series.DataMultibandTimeSeries at 0x7f11548984d0>,\n",
       " <backend.data_model.time_series.DataMultibandTimeSeries at 0x7f1154898ad0>,\n",
       " <backend.data_model.time_series.DataMultibandTimeSeries at 0x7f1154898b50>,\n",
       " <backend.data_model.time_series.DataMultibandTimeSeries at 0x7f1154898e10>,\n",
       " <backend.data_model.time_series.DataMultibandTimeSeries at 0x7f1189e64f50>,\n",
       " <backend.data_model.time_series.DataMultibandTimeSeries at 0x7f1155b23b90>,\n",
       " <backend.data_model.time_series.DataMultibandTimeSeries at 0x7f1155b23f10>,\n",
       " <backend.data_model.time_series.DataMultibandTimeSeries at 0x7f1155b232d0>,\n",
       " <backend.data_model.time_series.DataMultibandTimeSeries at 0x7f1155b23110>,\n",
       " <backend.data_model.time_series.DataMultibandTimeSeries at 0x7f1155b23ad0>,\n",
       " <backend.data_model.time_series.DataMultibandTimeSeries at 0x7f1155b23bd0>,\n",
       " <backend.data_model.time_series.DataMultibandTimeSeries at 0x7f1155b23190>,\n",
       " <backend.data_model.time_series.DataMultibandTimeSeries at 0x7f1155b23c10>,\n",
       " <backend.data_model.time_series.DataMultibandTimeSeries at 0x7f1155b23e90>,\n",
       " <backend.data_model.time_series.DataMultibandTimeSeries at 0x7f1155b23f50>,\n",
       " <backend.data_model.time_series.DataMultibandTimeSeries at 0x7f1155b23cd0>,\n",
       " <backend.data_model.time_series.DataMultibandTimeSeries at 0x7f1155b23a90>,\n",
       " <backend.data_model.time_series.DataMultibandTimeSeries at 0x7f1155b23350>,\n",
       " <backend.data_model.time_series.DataMultibandTimeSeries at 0x7f1155b23490>,\n",
       " <backend.data_model.time_series.DataMultibandTimeSeries at 0x7f1155b23610>,\n",
       " <backend.data_model.time_series.DataMultibandTimeSeries at 0x7f1155b23410>,\n",
       " <backend.data_model.time_series.DataMultibandTimeSeries at 0x7f1155b23810>,\n",
       " <backend.data_model.time_series.DataMultibandTimeSeries at 0x7f1155b23890>,\n",
       " <backend.data_model.time_series.DataMultibandTimeSeries at 0x7f1155b238d0>,\n",
       " <backend.data_model.time_series.DataMultibandTimeSeries at 0x7f1155b236d0>,\n",
       " <backend.data_model.time_series.DataMultibandTimeSeries at 0x7f1155b23310>,\n",
       " <backend.data_model.time_series.DataMultibandTimeSeries at 0x7f1155b3da50>,\n",
       " <backend.data_model.time_series.DataMultibandTimeSeries at 0x7f1155b3d550>,\n",
       " <backend.data_model.time_series.DataMultibandTimeSeries at 0x7f1155b3d690>,\n",
       " <backend.data_model.time_series.DataMultibandTimeSeries at 0x7f1155b3d510>,\n",
       " <backend.data_model.time_series.DataMultibandTimeSeries at 0x7f1155b3d2d0>,\n",
       " <backend.data_model.time_series.DataMultibandTimeSeries at 0x7f1155b3d1d0>,\n",
       " <backend.data_model.time_series.DataMultibandTimeSeries at 0x7f1155b3d310>,\n",
       " <backend.data_model.time_series.DataMultibandTimeSeries at 0x7f1155b3d4d0>,\n",
       " <backend.data_model.time_series.DataMultibandTimeSeries at 0x7f1155b3d250>,\n",
       " <backend.data_model.time_series.DataMultibandTimeSeries at 0x7f11548a0790>,\n",
       " <backend.data_model.time_series.DataMultibandTimeSeries at 0x7f11548a0250>,\n",
       " <backend.data_model.time_series.DataMultibandTimeSeries at 0x7f11548bad50>,\n",
       " <backend.data_model.time_series.DataMultibandTimeSeries at 0x7f11548bab90>,\n",
       " <backend.data_model.time_series.DataMultibandTimeSeries at 0x7f1155b35750>,\n",
       " <backend.data_model.time_series.DataMultibandTimeSeries at 0x7f1155b35f90>,\n",
       " <backend.data_model.time_series.DataMultibandTimeSeries at 0x7f1155b35710>,\n",
       " <backend.data_model.time_series.DataMultibandTimeSeries at 0x7f1155b35650>,\n",
       " <backend.data_model.time_series.DataMultibandTimeSeries at 0x7f1155b358d0>,\n",
       " <backend.data_model.time_series.DataMultibandTimeSeries at 0x7f1155b357d0>,\n",
       " <backend.data_model.time_series.DataMultibandTimeSeries at 0x7f1155b35290>,\n",
       " <backend.data_model.time_series.DataMultibandTimeSeries at 0x7f1155b355d0>,\n",
       " <backend.data_model.time_series.DataMultibandTimeSeries at 0x7f1155b35450>,\n",
       " <backend.data_model.time_series.DataMultibandTimeSeries at 0x7f1155b35310>,\n",
       " <backend.data_model.time_series.DataMultibandTimeSeries at 0x7f1155b35c10>,\n",
       " <backend.data_model.time_series.DataMultibandTimeSeries at 0x7f1155b35910>,\n",
       " <backend.data_model.time_series.DataMultibandTimeSeries at 0x7f1155b35050>,\n",
       " <backend.data_model.time_series.DataMultibandTimeSeries at 0x7f1155b35f10>,\n",
       " <backend.data_model.time_series.DataMultibandTimeSeries at 0x7f1155b35d90>,\n",
       " <backend.data_model.time_series.DataMultibandTimeSeries at 0x7f1155b35b90>,\n",
       " <backend.data_model.time_series.DataMultibandTimeSeries at 0x7f1155b35f50>,\n",
       " <backend.data_model.time_series.DataMultibandTimeSeries at 0x7f1155b359d0>,\n",
       " <backend.data_model.time_series.DataMultibandTimeSeries at 0x7f1155b35b10>,\n",
       " <backend.data_model.time_series.DataMultibandTimeSeries at 0x7f1155b35d10>,\n",
       " <backend.data_model.time_series.DataMultibandTimeSeries at 0x7f1154e1ced0>,\n",
       " <backend.data_model.time_series.DataMultibandTimeSeries at 0x7f1154e1cd10>,\n",
       " <backend.data_model.time_series.DataMultibandTimeSeries at 0x7f1154e1c2d0>,\n",
       " <backend.data_model.time_series.DataMultibandTimeSeries at 0x7f1154e1c090>,\n",
       " <backend.data_model.time_series.DataMultibandTimeSeries at 0x7f1154dfa350>,\n",
       " <backend.data_model.time_series.DataMultibandTimeSeries at 0x7f1154dfa6d0>,\n",
       " <backend.data_model.time_series.DataMultibandTimeSeries at 0x7f11557d6590>,\n",
       " <backend.data_model.time_series.DataMultibandTimeSeries at 0x7f11557d6890>,\n",
       " <backend.data_model.time_series.DataMultibandTimeSeries at 0x7f11553c5d90>,\n",
       " <backend.data_model.time_series.DataMultibandTimeSeries at 0x7f11553c5ad0>,\n",
       " <backend.data_model.time_series.DataMultibandTimeSeries at 0x7f11553c5210>,\n",
       " <backend.data_model.time_series.DataMultibandTimeSeries at 0x7f11553c5b10>,\n",
       " <backend.data_model.time_series.DataMultibandTimeSeries at 0x7f11553c5e90>,\n",
       " <backend.data_model.time_series.DataMultibandTimeSeries at 0x7f11553c5fd0>,\n",
       " <backend.data_model.time_series.DataMultibandTimeSeries at 0x7f11553c5290>,\n",
       " <backend.data_model.time_series.DataMultibandTimeSeries at 0x7f11553c5f10>,\n",
       " <backend.data_model.time_series.DataMultibandTimeSeries at 0x7f11553c5a90>,\n",
       " <backend.data_model.time_series.DataMultibandTimeSeries at 0x7f11553c5f90>,\n",
       " <backend.data_model.time_series.DataMultibandTimeSeries at 0x7f11553c5510>,\n",
       " <backend.data_model.time_series.DataMultibandTimeSeries at 0x7f1155425b10>,\n",
       " <backend.data_model.time_series.DataMultibandTimeSeries at 0x7f1154f0f150>,\n",
       " <backend.data_model.time_series.DataMultibandTimeSeries at 0x7f1154f0f090>,\n",
       " <backend.data_model.time_series.DataMultibandTimeSeries at 0x7f1154f0f290>,\n",
       " <backend.data_model.time_series.DataMultibandTimeSeries at 0x7f1154f1bb10>,\n",
       " <backend.data_model.time_series.DataMultibandTimeSeries at 0x7f1154f1ba90>,\n",
       " <backend.data_model.time_series.DataMultibandTimeSeries at 0x7f1154f35150>,\n",
       " <backend.data_model.time_series.DataMultibandTimeSeries at 0x7f1154f1a2d0>,\n",
       " <backend.data_model.time_series.DataMultibandTimeSeries at 0x7f1154f1abd0>,\n",
       " <backend.data_model.time_series.DataMultibandTimeSeries at 0x7f115579a850>,\n",
       " <backend.data_model.time_series.DataMultibandTimeSeries at 0x7f115579a7d0>,\n",
       " <backend.data_model.time_series.DataMultibandTimeSeries at 0x7f1155943f90>,\n",
       " <backend.data_model.time_series.DataMultibandTimeSeries at 0x7f1155943ed0>,\n",
       " <backend.data_model.time_series.DataMultibandTimeSeries at 0x7f1155943e10>,\n",
       " <backend.data_model.time_series.DataMultibandTimeSeries at 0x7f1155943d50>,\n",
       " <backend.data_model.time_series.DataMultibandTimeSeries at 0x7f1155943c90>,\n",
       " <backend.data_model.time_series.DataMultibandTimeSeries at 0x7f1155943bd0>,\n",
       " <backend.data_model.time_series.DataMultibandTimeSeries at 0x7f1155943b10>,\n",
       " <backend.data_model.time_series.DataMultibandTimeSeries at 0x7f1155943a50>,\n",
       " <backend.data_model.time_series.DataMultibandTimeSeries at 0x7f1155943190>,\n",
       " <backend.data_model.time_series.DataMultibandTimeSeries at 0x7f11554740d0>,\n",
       " <backend.data_model.time_series.DataMultibandTimeSeries at 0x7f1155474150>,\n",
       " <backend.data_model.time_series.DataMultibandTimeSeries at 0x7f115545c2d0>,\n",
       " <backend.data_model.time_series.DataMultibandTimeSeries at 0x7f115545c950>,\n",
       " <backend.data_model.time_series.DataMultibandTimeSeries at 0x7f115545c890>,\n",
       " <backend.data_model.time_series.DataMultibandTimeSeries at 0x7f115545c7d0>,\n",
       " <backend.data_model.time_series.DataMultibandTimeSeries at 0x7f115545c710>,\n",
       " <backend.data_model.time_series.DataMultibandTimeSeries at 0x7f115545c650>,\n",
       " <backend.data_model.time_series.DataMultibandTimeSeries at 0x7f115545c590>,\n",
       " <backend.data_model.time_series.DataMultibandTimeSeries at 0x7f115545c4d0>,\n",
       " <backend.data_model.time_series.DataMultibandTimeSeries at 0x7f115545c410>,\n",
       " <backend.data_model.time_series.DataMultibandTimeSeries at 0x7f115545c350>,\n",
       " <backend.data_model.time_series.DataMultibandTimeSeries at 0x7f115545ca10>,\n",
       " <backend.data_model.time_series.DataMultibandTimeSeries at 0x7f11553c5590>,\n",
       " <backend.data_model.time_series.DataMultibandTimeSeries at 0x7f11553c5550>,\n",
       " <backend.data_model.time_series.DataMultibandTimeSeries at 0x7f11553c5b90>,\n",
       " <backend.data_model.time_series.DataMultibandTimeSeries at 0x7f11553c5410>,\n",
       " <backend.data_model.time_series.DataMultibandTimeSeries at 0x7f11553c5950>,\n",
       " <backend.data_model.time_series.DataMultibandTimeSeries at 0x7f11553c58d0>,\n",
       " <backend.data_model.time_series.DataMultibandTimeSeries at 0x7f11553c54d0>,\n",
       " <backend.data_model.time_series.DataMultibandTimeSeries at 0x7f11553c5710>,\n",
       " <backend.data_model.time_series.DataMultibandTimeSeries at 0x7f11553c9410>,\n",
       " <backend.data_model.time_series.DataMultibandTimeSeries at 0x7f11553c9910>,\n",
       " <backend.data_model.time_series.DataMultibandTimeSeries at 0x7f11553c93d0>,\n",
       " <backend.data_model.time_series.DataMultibandTimeSeries at 0x7f11553c9510>,\n",
       " <backend.data_model.time_series.DataMultibandTimeSeries at 0x7f11553c91d0>,\n",
       " <backend.data_model.time_series.DataMultibandTimeSeries at 0x7f11553c9e50>,\n",
       " <backend.data_model.time_series.DataMultibandTimeSeries at 0x7f11553c97d0>,\n",
       " <backend.data_model.time_series.DataMultibandTimeSeries at 0x7f11553c9710>,\n",
       " <backend.data_model.time_series.DataMultibandTimeSeries at 0x7f11553c9750>,\n",
       " <backend.data_model.time_series.DataMultibandTimeSeries at 0x7f11553c9fd0>,\n",
       " <backend.data_model.time_series.DataMultibandTimeSeries at 0x7f1155b56a90>,\n",
       " <backend.data_model.time_series.DataMultibandTimeSeries at 0x7f1155b56d10>,\n",
       " <backend.data_model.time_series.DataMultibandTimeSeries at 0x7f1155b56750>,\n",
       " <backend.data_model.time_series.DataMultibandTimeSeries at 0x7f1155b56a10>,\n",
       " <backend.data_model.time_series.DataMultibandTimeSeries at 0x7f1155b56ad0>,\n",
       " <backend.data_model.time_series.DataMultibandTimeSeries at 0x7f1155b56810>,\n",
       " <backend.data_model.time_series.DataMultibandTimeSeries at 0x7f1155b56790>,\n",
       " <backend.data_model.time_series.DataMultibandTimeSeries at 0x7f1155b56e50>,\n",
       " <backend.data_model.time_series.DataMultibandTimeSeries at 0x7f1155b56f50>,\n",
       " <backend.data_model.time_series.DataMultibandTimeSeries at 0x7f1155b56e90>,\n",
       " <backend.data_model.time_series.DataMultibandTimeSeries at 0x7f1155b56f10>,\n",
       " <backend.data_model.time_series.DataMultibandTimeSeries at 0x7f1155b56e10>,\n",
       " <backend.data_model.time_series.DataMultibandTimeSeries at 0x7f1155b79450>,\n",
       " <backend.data_model.time_series.DataMultibandTimeSeries at 0x7f1155b793d0>,\n",
       " <backend.data_model.time_series.DataMultibandTimeSeries at 0x7f1155b79a10>,\n",
       " <backend.data_model.time_series.DataMultibandTimeSeries at 0x7f1155b79890>,\n",
       " <backend.data_model.time_series.DataMultibandTimeSeries at 0x7f1155b79190>,\n",
       " <backend.data_model.time_series.DataMultibandTimeSeries at 0x7f1155b79210>,\n",
       " <backend.data_model.time_series.DataMultibandTimeSeries at 0x7f1155b79150>,\n",
       " <backend.data_model.time_series.DataMultibandTimeSeries at 0x7f1155b79250>,\n",
       " <backend.data_model.time_series.DataMultibandTimeSeries at 0x7f1155b796d0>,\n",
       " <backend.data_model.time_series.DataMultibandTimeSeries at 0x7f1155b790d0>,\n",
       " <backend.data_model.time_series.DataMultibandTimeSeries at 0x7f1155b79c10>,\n",
       " <backend.data_model.time_series.DataMultibandTimeSeries at 0x7f1155b79d10>,\n",
       " <backend.data_model.time_series.DataMultibandTimeSeries at 0x7f1155b79ad0>,\n",
       " <backend.data_model.time_series.DataMultibandTimeSeries at 0x7f1155b79990>,\n",
       " <backend.data_model.time_series.DataMultibandTimeSeries at 0x7f1155b79ed0>,\n",
       " <backend.data_model.time_series.DataMultibandTimeSeries at 0x7f1155b79f90>,\n",
       " <backend.data_model.time_series.DataMultibandTimeSeries at 0x7f1155b79e10>,\n",
       " <backend.data_model.time_series.DataMultibandTimeSeries at 0x7f1155b79550>,\n",
       " <backend.data_model.time_series.DataMultibandTimeSeries at 0x7f1155b79490>,\n",
       " <backend.data_model.time_series.DataMultibandTimeSeries at 0x7f1155b79650>,\n",
       " <backend.data_model.time_series.DataMultibandTimeSeries at 0x7f1156da2250>,\n",
       " <backend.data_model.time_series.DataMultibandTimeSeries at 0x7f1156da2790>,\n",
       " <backend.data_model.time_series.DataMultibandTimeSeries at 0x7f1156da2910>,\n",
       " <backend.data_model.time_series.DataMultibandTimeSeries at 0x7f1156da2150>,\n",
       " <backend.data_model.time_series.DataMultibandTimeSeries at 0x7f1156da2510>,\n",
       " <backend.data_model.time_series.DataMultibandTimeSeries at 0x7f1156da22d0>,\n",
       " <backend.data_model.time_series.DataMultibandTimeSeries at 0x7f1156da2f90>,\n",
       " <backend.data_model.time_series.DataMultibandTimeSeries at 0x7f1156da2ed0>,\n",
       " <backend.data_model.time_series.DataMultibandTimeSeries at 0x7f1156da2b90>,\n",
       " <backend.data_model.time_series.DataMultibandTimeSeries at 0x7f1156da2310>,\n",
       " <backend.data_model.time_series.DataMultibandTimeSeries at 0x7f1156da2c10>,\n",
       " <backend.data_model.time_series.DataMultibandTimeSeries at 0x7f1156da2410>,\n",
       " <backend.data_model.time_series.DataMultibandTimeSeries at 0x7f1156da2650>,\n",
       " <backend.data_model.time_series.DataMultibandTimeSeries at 0x7f1156da2210>,\n",
       " <backend.data_model.time_series.DataMultibandTimeSeries at 0x7f1156da26d0>,\n",
       " <backend.data_model.time_series.DataMultibandTimeSeries at 0x7f1156da2a90>,\n",
       " <backend.data_model.time_series.DataMultibandTimeSeries at 0x7f1156da2390>,\n",
       " <backend.data_model.time_series.DataMultibandTimeSeries at 0x7f1155820390>,\n",
       " <backend.data_model.time_series.DataMultibandTimeSeries at 0x7f1155820810>,\n",
       " <backend.data_model.time_series.DataMultibandTimeSeries at 0x7f11558205d0>,\n",
       " <backend.data_model.time_series.DataMultibandTimeSeries at 0x7f1155820c90>,\n",
       " <backend.data_model.time_series.DataMultibandTimeSeries at 0x7f1155820f10>,\n",
       " <backend.data_model.time_series.DataMultibandTimeSeries at 0x7f1155ac8bd0>,\n",
       " <backend.data_model.time_series.DataMultibandTimeSeries at 0x7f1155ac8410>,\n",
       " <backend.data_model.time_series.DataMultibandTimeSeries at 0x7f1155ac84d0>,\n",
       " <backend.data_model.time_series.DataMultibandTimeSeries at 0x7f1155ac8590>,\n",
       " <backend.data_model.time_series.DataMultibandTimeSeries at 0x7f1155ac8210>,\n",
       " <backend.data_model.time_series.DataMultibandTimeSeries at 0x7f1155ac8e50>,\n",
       " <backend.data_model.time_series.DataMultibandTimeSeries at 0x7f1155ac8dd0>,\n",
       " <backend.data_model.time_series.DataMultibandTimeSeries at 0x7f1155ac8b90>,\n",
       " <backend.data_model.time_series.DataMultibandTimeSeries at 0x7f1155ac8c10>,\n",
       " <backend.data_model.time_series.DataMultibandTimeSeries at 0x7f1155ac83d0>,\n",
       " <backend.data_model.time_series.DataMultibandTimeSeries at 0x7f1155ac8190>,\n",
       " <backend.data_model.time_series.DataMultibandTimeSeries at 0x7f1155ac8110>,\n",
       " <backend.data_model.time_series.DataMultibandTimeSeries at 0x7f1155ac87d0>,\n",
       " <backend.data_model.time_series.DataMultibandTimeSeries at 0x7f1155ac8cd0>,\n",
       " <backend.data_model.time_series.DataMultibandTimeSeries at 0x7f1155ac8690>,\n",
       " <backend.data_model.time_series.DataMultibandTimeSeries at 0x7f1155ac8a10>,\n",
       " <backend.data_model.time_series.DataMultibandTimeSeries at 0x7f1155ac8390>,\n",
       " <backend.data_model.time_series.DataMultibandTimeSeries at 0x7f1155ac8a90>,\n",
       " <backend.data_model.time_series.DataMultibandTimeSeries at 0x7f1155ac85d0>,\n",
       " <backend.data_model.time_series.DataMultibandTimeSeries at 0x7f1155ac81d0>,\n",
       " <backend.data_model.time_series.DataMultibandTimeSeries at 0x7f11553c4690>,\n",
       " <backend.data_model.time_series.DataMultibandTimeSeries at 0x7f11553c4f90>,\n",
       " <backend.data_model.time_series.DataMultibandTimeSeries at 0x7f11553c4bd0>,\n",
       " <backend.data_model.time_series.DataMultibandTimeSeries at 0x7f11553c4090>,\n",
       " <backend.data_model.time_series.DataMultibandTimeSeries at 0x7f11553c4210>,\n",
       " <backend.data_model.time_series.DataMultibandTimeSeries at 0x7f11553c4450>,\n",
       " <backend.data_model.time_series.DataMultibandTimeSeries at 0x7f11553c4390>,\n",
       " <backend.data_model.time_series.DataMultibandTimeSeries at 0x7f11553c4250>,\n",
       " <backend.data_model.time_series.DataMultibandTimeSeries at 0x7f11553c4a10>,\n",
       " <backend.data_model.time_series.DataMultibandTimeSeries at 0x7f11553c4c50>,\n",
       " <backend.data_model.time_series.DataMultibandTimeSeries at 0x7f11553c4b50>,\n",
       " <backend.data_model.time_series.DataMultibandTimeSeries at 0x7f11553c48d0>,\n",
       " <backend.data_model.time_series.DataMultibandTimeSeries at 0x7f11553c40d0>,\n",
       " <backend.data_model.time_series.DataMultibandTimeSeries at 0x7f1154886650>,\n",
       " <backend.data_model.time_series.DataMultibandTimeSeries at 0x7f11548abed0>,\n",
       " <backend.data_model.time_series.DataMultibandTimeSeries at 0x7f11548ed410>,\n",
       " <backend.data_model.time_series.DataMultibandTimeSeries at 0x7f11548d3a50>,\n",
       " <backend.data_model.time_series.DataMultibandTimeSeries at 0x7f115543e0d0>,\n",
       " <backend.data_model.time_series.DataMultibandTimeSeries at 0x7f115543ecd0>,\n",
       " <backend.data_model.time_series.DataMultibandTimeSeries at 0x7f115543e310>,\n",
       " <backend.data_model.time_series.DataMultibandTimeSeries at 0x7f115543e410>,\n",
       " <backend.data_model.time_series.DataMultibandTimeSeries at 0x7f115543e2d0>,\n",
       " <backend.data_model.time_series.DataMultibandTimeSeries at 0x7f115543e490>,\n",
       " <backend.data_model.time_series.DataMultibandTimeSeries at 0x7f115543ec90>,\n",
       " <backend.data_model.time_series.DataMultibandTimeSeries at 0x7f115543ec10>,\n",
       " <backend.data_model.time_series.DataMultibandTimeSeries at 0x7f115543eed0>,\n",
       " <backend.data_model.time_series.DataMultibandTimeSeries at 0x7f115543ef90>,\n",
       " <backend.data_model.time_series.DataMultibandTimeSeries at 0x7f115543eb50>,\n",
       " <backend.data_model.time_series.DataMultibandTimeSeries at 0x7f11554d7c90>,\n",
       " <backend.data_model.time_series.DataMultibandTimeSeries at 0x7f11554d78d0>,\n",
       " <backend.data_model.time_series.DataMultibandTimeSeries at 0x7f11554d7410>,\n",
       " <backend.data_model.time_series.DataMultibandTimeSeries at 0x7f11554d7790>,\n",
       " <backend.data_model.time_series.DataMultibandTimeSeries at 0x7f11554d7dd0>,\n",
       " <backend.data_model.time_series.DataMultibandTimeSeries at 0x7f1154dfdf10>,\n",
       " <backend.data_model.time_series.DataMultibandTimeSeries at 0x7f1154dfde90>,\n",
       " <backend.data_model.time_series.DataMultibandTimeSeries at 0x7f1154dfde10>,\n",
       " <backend.data_model.time_series.DataMultibandTimeSeries at 0x7f1154dfd650>,\n",
       " <backend.data_model.time_series.DataMultibandTimeSeries at 0x7f1154dfd810>,\n",
       " <backend.data_model.time_series.DataMultibandTimeSeries at 0x7f1154dfda50>,\n",
       " <backend.data_model.time_series.DataMultibandTimeSeries at 0x7f1154dfd190>,\n",
       " <backend.data_model.time_series.DataMultibandTimeSeries at 0x7f1154dfdb10>,\n",
       " <backend.data_model.time_series.DataMultibandTimeSeries at 0x7f1154dfdad0>,\n",
       " <backend.data_model.time_series.DataMultibandTimeSeries at 0x7f1154dfdd50>,\n",
       " <backend.data_model.time_series.DataMultibandTimeSeries at 0x7f1154dfdc10>,\n",
       " <backend.data_model.time_series.DataMultibandTimeSeries at 0x7f1154dfd2d0>,\n",
       " <backend.data_model.time_series.DataMultibandTimeSeries at 0x7f1154dfd210>,\n",
       " <backend.data_model.time_series.DataMultibandTimeSeries at 0x7f1154dfd410>,\n",
       " <backend.data_model.time_series.DataMultibandTimeSeries at 0x7f1154dfd350>,\n",
       " <backend.data_model.time_series.DataMultibandTimeSeries at 0x7f1154dfd750>,\n",
       " <backend.data_model.time_series.DataMultibandTimeSeries at 0x7f1154f7d490>,\n",
       " <backend.data_model.time_series.DataMultibandTimeSeries at 0x7f1154f7d0d0>,\n",
       " <backend.data_model.time_series.DataMultibandTimeSeries at 0x7f1154f7d190>,\n",
       " <backend.data_model.time_series.DataMultibandTimeSeries at 0x7f1154f7d250>,\n",
       " <backend.data_model.time_series.DataMultibandTimeSeries at 0x7f1154f7d310>,\n",
       " <backend.data_model.time_series.DataMultibandTimeSeries at 0x7f1154f7d410>,\n",
       " <backend.data_model.time_series.DataMultibandTimeSeries at 0x7f1154f7d510>,\n",
       " <backend.data_model.time_series.DataMultibandTimeSeries at 0x7f1154f7d5d0>,\n",
       " <backend.data_model.time_series.DataMultibandTimeSeries at 0x7f115572bbd0>,\n",
       " <backend.data_model.time_series.DataMultibandTimeSeries at 0x7f115572bb50>,\n",
       " <backend.data_model.time_series.DataMultibandTimeSeries at 0x7f115572b1d0>,\n",
       " <backend.data_model.time_series.DataMultibandTimeSeries at 0x7f115572b090>,\n",
       " <backend.data_model.time_series.DataMultibandTimeSeries at 0x7f115572b210>,\n",
       " <backend.data_model.time_series.DataMultibandTimeSeries at 0x7f115572b450>,\n",
       " <backend.data_model.time_series.DataMultibandTimeSeries at 0x7f115572bc10>,\n",
       " <backend.data_model.time_series.DataMultibandTimeSeries at 0x7f115572bcd0>,\n",
       " <backend.data_model.time_series.DataMultibandTimeSeries at 0x7f115572bd90>,\n",
       " <backend.data_model.time_series.DataMultibandTimeSeries at 0x7f115572be50>,\n",
       " <backend.data_model.time_series.DataMultibandTimeSeries at 0x7f115572bf10>,\n",
       " <backend.data_model.time_series.DataMultibandTimeSeries at 0x7f115572bfd0>,\n",
       " <backend.data_model.time_series.DataMultibandTimeSeries at 0x7f1155705f90>,\n",
       " <backend.data_model.time_series.DataMultibandTimeSeries at 0x7f1155705ed0>,\n",
       " <backend.data_model.time_series.DataMultibandTimeSeries at 0x7f1155705e10>,\n",
       " <backend.data_model.time_series.DataMultibandTimeSeries at 0x7f1155705d50>,\n",
       " <backend.data_model.time_series.DataMultibandTimeSeries at 0x7f1155705c90>,\n",
       " <backend.data_model.time_series.DataMultibandTimeSeries at 0x7f1155705bd0>,\n",
       " <backend.data_model.time_series.DataMultibandTimeSeries at 0x7f1155705ad0>,\n",
       " <backend.data_model.time_series.DataMultibandTimeSeries at 0x7f1155705950>,\n",
       " <backend.data_model.time_series.DataMultibandTimeSeries at 0x7f1155705910>,\n",
       " <backend.data_model.time_series.DataMultibandTimeSeries at 0x7f1155705050>,\n",
       " <backend.data_model.time_series.DataMultibandTimeSeries at 0x7f1155705850>,\n",
       " <backend.data_model.time_series.DataMultibandTimeSeries at 0x7f1155706750>,\n",
       " <backend.data_model.time_series.DataMultibandTimeSeries at 0x7f1155706f90>,\n",
       " <backend.data_model.time_series.DataMultibandTimeSeries at 0x7f1155706810>,\n",
       " <backend.data_model.time_series.DataMultibandTimeSeries at 0x7f1155706690>,\n",
       " <backend.data_model.time_series.DataMultibandTimeSeries at 0x7f1155735ed0>,\n",
       " <backend.data_model.time_series.DataMultibandTimeSeries at 0x7f1155735dd0>,\n",
       " <backend.data_model.time_series.DataMultibandTimeSeries at 0x7f1155735650>,\n",
       " <backend.data_model.time_series.DataMultibandTimeSeries at 0x7f11557354d0>,\n",
       " <backend.data_model.time_series.DataMultibandTimeSeries at 0x7f115540cd10>,\n",
       " <backend.data_model.time_series.DataMultibandTimeSeries at 0x7f115540cc10>,\n",
       " <backend.data_model.time_series.DataMultibandTimeSeries at 0x7f115540c490>,\n",
       " <backend.data_model.time_series.DataMultibandTimeSeries at 0x7f115540c310>,\n",
       " <backend.data_model.time_series.DataMultibandTimeSeries at 0x7f1155420b50>,\n",
       " <backend.data_model.time_series.DataMultibandTimeSeries at 0x7f1155420a50>,\n",
       " <backend.data_model.time_series.DataMultibandTimeSeries at 0x7f11554202d0>,\n",
       " <backend.data_model.time_series.DataMultibandTimeSeries at 0x7f1155420150>,\n",
       " <backend.data_model.time_series.DataMultibandTimeSeries at 0x7f11553fc990>,\n",
       " <backend.data_model.time_series.DataMultibandTimeSeries at 0x7f11553fcb10>,\n",
       " <backend.data_model.time_series.DataMultibandTimeSeries at 0x7f115542d990>,\n",
       " <backend.data_model.time_series.DataMultibandTimeSeries at 0x7f115542d890>,\n",
       " <backend.data_model.time_series.DataMultibandTimeSeries at 0x7f115542d110>,\n",
       " <backend.data_model.time_series.DataMultibandTimeSeries at 0x7f115571ef90>,\n",
       " <backend.data_model.time_series.DataMultibandTimeSeries at 0x7f115571e810>,\n",
       " <backend.data_model.time_series.DataMultibandTimeSeries at 0x7f115571e690>,\n",
       " <backend.data_model.time_series.DataMultibandTimeSeries at 0x7f1155972f90>,\n",
       " <backend.data_model.time_series.DataMultibandTimeSeries at 0x7f1155972ed0>,\n",
       " <backend.data_model.time_series.DataMultibandTimeSeries at 0x7f1155972e10>,\n",
       " <backend.data_model.time_series.DataMultibandTimeSeries at 0x7f1155972d50>,\n",
       " <backend.data_model.time_series.DataMultibandTimeSeries at 0x7f1155972c90>,\n",
       " <backend.data_model.time_series.DataMultibandTimeSeries at 0x7f1155972bd0>,\n",
       " <backend.data_model.time_series.DataMultibandTimeSeries at 0x7f1155972b10>,\n",
       " <backend.data_model.time_series.DataMultibandTimeSeries at 0x7f1155972250>,\n",
       " <backend.data_model.time_series.DataMultibandTimeSeries at 0x7f1155972890>,\n",
       " <backend.data_model.time_series.DataMultibandTimeSeries at 0x7f115579ff90>,\n",
       " <backend.data_model.time_series.DataMultibandTimeSeries at 0x7f11554039d0>,\n",
       " <backend.data_model.time_series.DataMultibandTimeSeries at 0x7f115570b950>,\n",
       " <backend.data_model.time_series.DataMultibandTimeSeries at 0x7f115570b810>,\n",
       " <backend.data_model.time_series.DataMultibandTimeSeries at 0x7f115570b750>,\n",
       " <backend.data_model.time_series.DataMultibandTimeSeries at 0x7f115570b690>,\n",
       " <backend.data_model.time_series.DataMultibandTimeSeries at 0x7f115570b5d0>,\n",
       " <backend.data_model.time_series.DataMultibandTimeSeries at 0x7f115570b510>,\n",
       " <backend.data_model.time_series.DataMultibandTimeSeries at 0x7f115570b450>,\n",
       " <backend.data_model.time_series.DataMultibandTimeSeries at 0x7f115570b390>,\n",
       " <backend.data_model.time_series.DataMultibandTimeSeries at 0x7f115570b290>,\n",
       " <backend.data_model.time_series.DataMultibandTimeSeries at 0x7f115570b190>,\n",
       " <backend.data_model.time_series.DataMultibandTimeSeries at 0x7f115570b990>,\n",
       " <backend.data_model.time_series.DataMultibandTimeSeries at 0x7f115570bfd0>,\n",
       " <backend.data_model.time_series.DataMultibandTimeSeries at 0x7f1154f31790>,\n",
       " <backend.data_model.time_series.DataMultibandTimeSeries at 0x7f1154f31f50>,\n",
       " <backend.data_model.time_series.DataMultibandTimeSeries at 0x7f1154f2a350>,\n",
       " <backend.data_model.time_series.DataMultibandTimeSeries at 0x7f1154f2a2d0>,\n",
       " <backend.data_model.time_series.DataMultibandTimeSeries at 0x7f1154f2ae50>,\n",
       " <backend.data_model.time_series.DataMultibandTimeSeries at 0x7f1154f2a410>,\n",
       " <backend.data_model.time_series.DataMultibandTimeSeries at 0x7f1154f2a510>,\n",
       " <backend.data_model.time_series.DataMultibandTimeSeries at 0x7f11548b40d0>,\n",
       " <backend.data_model.time_series.DataMultibandTimeSeries at 0x7f11548b4190>,\n",
       " <backend.data_model.time_series.DataMultibandTimeSeries at 0x7f11548b4250>,\n",
       " <backend.data_model.time_series.DataMultibandTimeSeries at 0x7f11548b4310>,\n",
       " <backend.data_model.time_series.DataMultibandTimeSeries at 0x7f11548b43d0>,\n",
       " <backend.data_model.time_series.DataMultibandTimeSeries at 0x7f11548b4490>,\n",
       " <backend.data_model.time_series.DataMultibandTimeSeries at 0x7f11548b4550>,\n",
       " <backend.data_model.time_series.DataMultibandTimeSeries at 0x7f11548b4610>,\n",
       " <backend.data_model.time_series.DataMultibandTimeSeries at 0x7f11548b46d0>,\n",
       " <backend.data_model.time_series.DataMultibandTimeSeries at 0x7f11548b4790>,\n",
       " <backend.data_model.time_series.DataMultibandTimeSeries at 0x7f11548b4850>,\n",
       " <backend.data_model.time_series.DataMultibandTimeSeries at 0x7f11548b4910>,\n",
       " <backend.data_model.time_series.DataMultibandTimeSeries at 0x7f11548b49d0>,\n",
       " <backend.data_model.time_series.DataMultibandTimeSeries at 0x7f11548b4a90>,\n",
       " <backend.data_model.time_series.DataMultibandTimeSeries at 0x7f11548b4b50>,\n",
       " <backend.data_model.time_series.DataMultibandTimeSeries at 0x7f11548b4c10>,\n",
       " <backend.data_model.time_series.DataMultibandTimeSeries at 0x7f11548b4cd0>,\n",
       " <backend.data_model.time_series.DataMultibandTimeSeries at 0x7f11548b4d90>,\n",
       " <backend.data_model.time_series.DataMultibandTimeSeries at 0x7f11548b4e50>,\n",
       " <backend.data_model.time_series.DataMultibandTimeSeries at 0x7f11548b4f10>,\n",
       " <backend.data_model.time_series.DataMultibandTimeSeries at 0x7f11548b4fd0>,\n",
       " <backend.data_model.time_series.DataMultibandTimeSeries at 0x7f11548e70d0>,\n",
       " <backend.data_model.time_series.DataMultibandTimeSeries at 0x7f11548e7190>,\n",
       " <backend.data_model.time_series.DataMultibandTimeSeries at 0x7f11548e7250>,\n",
       " <backend.data_model.time_series.DataMultibandTimeSeries at 0x7f11548e7310>,\n",
       " <backend.data_model.time_series.DataMultibandTimeSeries at 0x7f11548e73d0>,\n",
       " <backend.data_model.time_series.DataMultibandTimeSeries at 0x7f11548e7490>,\n",
       " <backend.data_model.time_series.DataMultibandTimeSeries at 0x7f11548e7550>,\n",
       " <backend.data_model.time_series.DataMultibandTimeSeries at 0x7f11548e7610>,\n",
       " <backend.data_model.time_series.DataMultibandTimeSeries at 0x7f11548e76d0>,\n",
       " <backend.data_model.time_series.DataMultibandTimeSeries at 0x7f11548e7790>,\n",
       " <backend.data_model.time_series.DataMultibandTimeSeries at 0x7f11548e7850>,\n",
       " <backend.data_model.time_series.DataMultibandTimeSeries at 0x7f11548e7910>,\n",
       " <backend.data_model.time_series.DataMultibandTimeSeries at 0x7f11548e79d0>,\n",
       " <backend.data_model.time_series.DataMultibandTimeSeries at 0x7f11548e7a90>,\n",
       " <backend.data_model.time_series.DataMultibandTimeSeries at 0x7f11548e7b50>,\n",
       " <backend.data_model.time_series.DataMultibandTimeSeries at 0x7f11548e7c10>,\n",
       " <backend.data_model.time_series.DataMultibandTimeSeries at 0x7f11548e7cd0>,\n",
       " <backend.data_model.time_series.DataMultibandTimeSeries at 0x7f11548e7d90>,\n",
       " <backend.data_model.time_series.DataMultibandTimeSeries at 0x7f11548e7e50>,\n",
       " <backend.data_model.time_series.DataMultibandTimeSeries at 0x7f11548e7f10>,\n",
       " <backend.data_model.time_series.DataMultibandTimeSeries at 0x7f11548e7fd0>,\n",
       " <backend.data_model.time_series.DataMultibandTimeSeries at 0x7f11548e30d0>,\n",
       " <backend.data_model.time_series.DataMultibandTimeSeries at 0x7f11548e3190>,\n",
       " <backend.data_model.time_series.DataMultibandTimeSeries at 0x7f11548e3250>,\n",
       " <backend.data_model.time_series.DataMultibandTimeSeries at 0x7f11548e3310>,\n",
       " <backend.data_model.time_series.DataMultibandTimeSeries at 0x7f11548e33d0>,\n",
       " <backend.data_model.time_series.DataMultibandTimeSeries at 0x7f11548e3490>,\n",
       " <backend.data_model.time_series.DataMultibandTimeSeries at 0x7f11548e3550>,\n",
       " <backend.data_model.time_series.DataMultibandTimeSeries at 0x7f11548e3610>,\n",
       " <backend.data_model.time_series.DataMultibandTimeSeries at 0x7f11548e36d0>,\n",
       " <backend.data_model.time_series.DataMultibandTimeSeries at 0x7f11548e3790>,\n",
       " <backend.data_model.time_series.DataMultibandTimeSeries at 0x7f11548e3850>,\n",
       " <backend.data_model.time_series.DataMultibandTimeSeries at 0x7f11548e3910>,\n",
       " <backend.data_model.time_series.DataMultibandTimeSeries at 0x7f11548e39d0>,\n",
       " <backend.data_model.time_series.DataMultibandTimeSeries at 0x7f11548e3a90>,\n",
       " <backend.data_model.time_series.DataMultibandTimeSeries at 0x7f11548e3b50>,\n",
       " <backend.data_model.time_series.DataMultibandTimeSeries at 0x7f11548e3c10>,\n",
       " <backend.data_model.time_series.DataMultibandTimeSeries at 0x7f11548e3cd0>,\n",
       " <backend.data_model.time_series.DataMultibandTimeSeries at 0x7f11548e3d90>,\n",
       " <backend.data_model.time_series.DataMultibandTimeSeries at 0x7f11548e3e50>,\n",
       " <backend.data_model.time_series.DataMultibandTimeSeries at 0x7f11548e3f10>,\n",
       " <backend.data_model.time_series.DataMultibandTimeSeries at 0x7f11548e3fd0>,\n",
       " <backend.data_model.time_series.DataMultibandTimeSeries at 0x7f1154ebc0d0>,\n",
       " <backend.data_model.time_series.DataMultibandTimeSeries at 0x7f1154ebc190>,\n",
       " <backend.data_model.time_series.DataMultibandTimeSeries at 0x7f1154ebc250>,\n",
       " <backend.data_model.time_series.DataMultibandTimeSeries at 0x7f1154ebc310>,\n",
       " <backend.data_model.time_series.DataMultibandTimeSeries at 0x7f1154ebc3d0>,\n",
       " <backend.data_model.time_series.DataMultibandTimeSeries at 0x7f1154ebc490>,\n",
       " <backend.data_model.time_series.DataMultibandTimeSeries at 0x7f1154ebc550>,\n",
       " <backend.data_model.time_series.DataMultibandTimeSeries at 0x7f1154ebc610>,\n",
       " <backend.data_model.time_series.DataMultibandTimeSeries at 0x7f1154ebc6d0>,\n",
       " <backend.data_model.time_series.DataMultibandTimeSeries at 0x7f1154ebc790>,\n",
       " <backend.data_model.time_series.DataMultibandTimeSeries at 0x7f1154ebc850>,\n",
       " <backend.data_model.time_series.DataMultibandTimeSeries at 0x7f1154ebc910>,\n",
       " <backend.data_model.time_series.DataMultibandTimeSeries at 0x7f1154ebc9d0>,\n",
       " <backend.data_model.time_series.DataMultibandTimeSeries at 0x7f1154ebca90>,\n",
       " <backend.data_model.time_series.DataMultibandTimeSeries at 0x7f1154ebcb50>,\n",
       " <backend.data_model.time_series.DataMultibandTimeSeries at 0x7f1154ebcc10>,\n",
       " <backend.data_model.time_series.DataMultibandTimeSeries at 0x7f1154ebccd0>,\n",
       " <backend.data_model.time_series.DataMultibandTimeSeries at 0x7f1154ebcd90>,\n",
       " <backend.data_model.time_series.DataMultibandTimeSeries at 0x7f1154ebce50>,\n",
       " <backend.data_model.time_series.DataMultibandTimeSeries at 0x7f1154ebcf10>,\n",
       " <backend.data_model.time_series.DataMultibandTimeSeries at 0x7f1154ebcfd0>,\n",
       " <backend.data_model.time_series.DataMultibandTimeSeries at 0x7f1154ef10d0>,\n",
       " <backend.data_model.time_series.DataMultibandTimeSeries at 0x7f1154ef1190>,\n",
       " <backend.data_model.time_series.DataMultibandTimeSeries at 0x7f1154ef1250>,\n",
       " <backend.data_model.time_series.DataMultibandTimeSeries at 0x7f1154ef1310>,\n",
       " <backend.data_model.time_series.DataMultibandTimeSeries at 0x7f1154ef13d0>,\n",
       " <backend.data_model.time_series.DataMultibandTimeSeries at 0x7f1154ef1490>,\n",
       " <backend.data_model.time_series.DataMultibandTimeSeries at 0x7f1154ef1550>,\n",
       " <backend.data_model.time_series.DataMultibandTimeSeries at 0x7f1154ef1610>,\n",
       " <backend.data_model.time_series.DataMultibandTimeSeries at 0x7f1154ef16d0>,\n",
       " <backend.data_model.time_series.DataMultibandTimeSeries at 0x7f1154ef1790>,\n",
       " <backend.data_model.time_series.DataMultibandTimeSeries at 0x7f1154ef1850>,\n",
       " <backend.data_model.time_series.DataMultibandTimeSeries at 0x7f1154ef1910>,\n",
       " <backend.data_model.time_series.DataMultibandTimeSeries at 0x7f1154ef19d0>,\n",
       " <backend.data_model.time_series.DataMultibandTimeSeries at 0x7f1154ef1a90>,\n",
       " <backend.data_model.time_series.DataMultibandTimeSeries at 0x7f1154ef1b50>,\n",
       " <backend.data_model.time_series.DataMultibandTimeSeries at 0x7f1154ef1c10>,\n",
       " <backend.data_model.time_series.DataMultibandTimeSeries at 0x7f1154ef1cd0>,\n",
       " <backend.data_model.time_series.DataMultibandTimeSeries at 0x7f1154ef1d90>,\n",
       " <backend.data_model.time_series.DataMultibandTimeSeries at 0x7f1154ef1e50>,\n",
       " <backend.data_model.time_series.DataMultibandTimeSeries at 0x7f1154ef1f10>,\n",
       " <backend.data_model.time_series.DataMultibandTimeSeries at 0x7f1154ef1fd0>,\n",
       " <backend.data_model.time_series.DataMultibandTimeSeries at 0x7f1154ecd0d0>,\n",
       " <backend.data_model.time_series.DataMultibandTimeSeries at 0x7f1154ecd190>,\n",
       " <backend.data_model.time_series.DataMultibandTimeSeries at 0x7f1154ecd250>,\n",
       " <backend.data_model.time_series.DataMultibandTimeSeries at 0x7f1154ecd310>,\n",
       " <backend.data_model.time_series.DataMultibandTimeSeries at 0x7f1154ecd3d0>,\n",
       " <backend.data_model.time_series.DataMultibandTimeSeries at 0x7f1154ecd490>,\n",
       " <backend.data_model.time_series.DataMultibandTimeSeries at 0x7f1154ecd550>,\n",
       " <backend.data_model.time_series.DataMultibandTimeSeries at 0x7f1154ecd610>,\n",
       " <backend.data_model.time_series.DataMultibandTimeSeries at 0x7f1154ecd6d0>,\n",
       " <backend.data_model.time_series.DataMultibandTimeSeries at 0x7f1154ecd790>,\n",
       " <backend.data_model.time_series.DataMultibandTimeSeries at 0x7f1154ecd850>,\n",
       " <backend.data_model.time_series.DataMultibandTimeSeries at 0x7f1154ecd910>,\n",
       " <backend.data_model.time_series.DataMultibandTimeSeries at 0x7f1154ecd9d0>,\n",
       " <backend.data_model.time_series.DataMultibandTimeSeries at 0x7f1154ecda90>,\n",
       " <backend.data_model.time_series.DataMultibandTimeSeries at 0x7f1154ecdb50>,\n",
       " <backend.data_model.time_series.DataMultibandTimeSeries at 0x7f1154ecdc10>,\n",
       " <backend.data_model.time_series.DataMultibandTimeSeries at 0x7f1154ecdcd0>,\n",
       " <backend.data_model.time_series.DataMultibandTimeSeries at 0x7f1154ecdd90>,\n",
       " <backend.data_model.time_series.DataMultibandTimeSeries at 0x7f1154ecde50>,\n",
       " <backend.data_model.time_series.DataMultibandTimeSeries at 0x7f1154ecdf10>,\n",
       " <backend.data_model.time_series.DataMultibandTimeSeries at 0x7f1154ecdfd0>,\n",
       " <backend.data_model.time_series.DataMultibandTimeSeries at 0x7f11555a80d0>,\n",
       " <backend.data_model.time_series.DataMultibandTimeSeries at 0x7f11555a8190>,\n",
       " <backend.data_model.time_series.DataMultibandTimeSeries at 0x7f11555a8250>,\n",
       " <backend.data_model.time_series.DataMultibandTimeSeries at 0x7f11555a8310>,\n",
       " <backend.data_model.time_series.DataMultibandTimeSeries at 0x7f11555a83d0>,\n",
       " <backend.data_model.time_series.DataMultibandTimeSeries at 0x7f11555a8490>,\n",
       " <backend.data_model.time_series.DataMultibandTimeSeries at 0x7f11555a8550>,\n",
       " <backend.data_model.time_series.DataMultibandTimeSeries at 0x7f11555a8610>,\n",
       " <backend.data_model.time_series.DataMultibandTimeSeries at 0x7f11555a86d0>,\n",
       " <backend.data_model.time_series.DataMultibandTimeSeries at 0x7f11555a8790>,\n",
       " <backend.data_model.time_series.DataMultibandTimeSeries at 0x7f11555a8850>,\n",
       " <backend.data_model.time_series.DataMultibandTimeSeries at 0x7f11555a8910>,\n",
       " <backend.data_model.time_series.DataMultibandTimeSeries at 0x7f11555a89d0>,\n",
       " <backend.data_model.time_series.DataMultibandTimeSeries at 0x7f11555a8a90>,\n",
       " <backend.data_model.time_series.DataMultibandTimeSeries at 0x7f11555a8b50>,\n",
       " <backend.data_model.time_series.DataMultibandTimeSeries at 0x7f11555a8c10>,\n",
       " <backend.data_model.time_series.DataMultibandTimeSeries at 0x7f11555a8cd0>,\n",
       " <backend.data_model.time_series.DataMultibandTimeSeries at 0x7f11555a8d90>,\n",
       " <backend.data_model.time_series.DataMultibandTimeSeries at 0x7f11555a8e50>,\n",
       " <backend.data_model.time_series.DataMultibandTimeSeries at 0x7f11555a8f10>,\n",
       " <backend.data_model.time_series.DataMultibandTimeSeries at 0x7f11555a8fd0>,\n",
       " <backend.data_model.time_series.DataMultibandTimeSeries at 0x7f1155588e50>,\n",
       " <backend.data_model.time_series.DataMultibandTimeSeries at 0x7f1155588d90>,\n",
       " <backend.data_model.time_series.DataMultibandTimeSeries at 0x7f1155588cd0>,\n",
       " <backend.data_model.time_series.DataMultibandTimeSeries at 0x7f1155588c10>,\n",
       " <backend.data_model.time_series.DataMultibandTimeSeries at 0x7f1155588b50>,\n",
       " <backend.data_model.time_series.DataMultibandTimeSeries at 0x7f1155588a90>,\n",
       " <backend.data_model.time_series.DataMultibandTimeSeries at 0x7f11555889d0>,\n",
       " <backend.data_model.time_series.DataMultibandTimeSeries at 0x7f1155588910>,\n",
       " <backend.data_model.time_series.DataMultibandTimeSeries at 0x7f1155588850>,\n",
       " <backend.data_model.time_series.DataMultibandTimeSeries at 0x7f1155588790>,\n",
       " <backend.data_model.time_series.DataMultibandTimeSeries at 0x7f11555886d0>,\n",
       " <backend.data_model.time_series.DataMultibandTimeSeries at 0x7f1155588610>,\n",
       " <backend.data_model.time_series.DataMultibandTimeSeries at 0x7f1155588550>,\n",
       " <backend.data_model.time_series.DataMultibandTimeSeries at 0x7f1155588490>,\n",
       " <backend.data_model.time_series.DataMultibandTimeSeries at 0x7f11555883d0>,\n",
       " <backend.data_model.time_series.DataMultibandTimeSeries at 0x7f1155588310>,\n",
       " <backend.data_model.time_series.DataMultibandTimeSeries at 0x7f1155588250>,\n",
       " <backend.data_model.time_series.DataMultibandTimeSeries at 0x7f1155588190>,\n",
       " <backend.data_model.time_series.DataMultibandTimeSeries at 0x7f11555880d0>,\n",
       " <backend.data_model.time_series.DataMultibandTimeSeries at 0x7f1155588110>,\n",
       " <backend.data_model.time_series.DataMultibandTimeSeries at 0x7f1155588090>,\n",
       " <backend.data_model.time_series.DataMultibandTimeSeries at 0x7f115557ae50>,\n",
       " <backend.data_model.time_series.DataMultibandTimeSeries at 0x7f115557ad90>,\n",
       " <backend.data_model.time_series.DataMultibandTimeSeries at 0x7f115557acd0>,\n",
       " <backend.data_model.time_series.DataMultibandTimeSeries at 0x7f115557ac10>,\n",
       " <backend.data_model.time_series.DataMultibandTimeSeries at 0x7f115557ab50>,\n",
       " <backend.data_model.time_series.DataMultibandTimeSeries at 0x7f115557aa90>,\n",
       " <backend.data_model.time_series.DataMultibandTimeSeries at 0x7f115557a9d0>,\n",
       " <backend.data_model.time_series.DataMultibandTimeSeries at 0x7f115557a910>,\n",
       " <backend.data_model.time_series.DataMultibandTimeSeries at 0x7f115557a850>,\n",
       " <backend.data_model.time_series.DataMultibandTimeSeries at 0x7f115557a790>,\n",
       " <backend.data_model.time_series.DataMultibandTimeSeries at 0x7f115557a6d0>,\n",
       " <backend.data_model.time_series.DataMultibandTimeSeries at 0x7f115557a610>,\n",
       " <backend.data_model.time_series.DataMultibandTimeSeries at 0x7f115557a550>,\n",
       " <backend.data_model.time_series.DataMultibandTimeSeries at 0x7f115557a490>,\n",
       " <backend.data_model.time_series.DataMultibandTimeSeries at 0x7f115557a3d0>,\n",
       " <backend.data_model.time_series.DataMultibandTimeSeries at 0x7f115557a310>,\n",
       " <backend.data_model.time_series.DataMultibandTimeSeries at 0x7f115557a250>,\n",
       " <backend.data_model.time_series.DataMultibandTimeSeries at 0x7f115557a190>,\n",
       " <backend.data_model.time_series.DataMultibandTimeSeries at 0x7f115557a0d0>,\n",
       " <backend.data_model.time_series.DataMultibandTimeSeries at 0x7f115557a110>,\n",
       " <backend.data_model.time_series.DataMultibandTimeSeries at 0x7f115557a090>,\n",
       " <backend.data_model.time_series.DataMultibandTimeSeries at 0x7f115558f0d0>,\n",
       " <backend.data_model.time_series.DataMultibandTimeSeries at 0x7f115558f190>,\n",
       " <backend.data_model.time_series.DataMultibandTimeSeries at 0x7f115558f250>,\n",
       " <backend.data_model.time_series.DataMultibandTimeSeries at 0x7f115558f310>,\n",
       " <backend.data_model.time_series.DataMultibandTimeSeries at 0x7f115558f3d0>,\n",
       " <backend.data_model.time_series.DataMultibandTimeSeries at 0x7f115558f490>,\n",
       " <backend.data_model.time_series.DataMultibandTimeSeries at 0x7f115558f550>,\n",
       " <backend.data_model.time_series.DataMultibandTimeSeries at 0x7f115558f610>,\n",
       " <backend.data_model.time_series.DataMultibandTimeSeries at 0x7f115558f6d0>,\n",
       " <backend.data_model.time_series.DataMultibandTimeSeries at 0x7f115558f790>,\n",
       " <backend.data_model.time_series.DataMultibandTimeSeries at 0x7f115558f850>,\n",
       " <backend.data_model.time_series.DataMultibandTimeSeries at 0x7f115558f910>,\n",
       " <backend.data_model.time_series.DataMultibandTimeSeries at 0x7f115558f9d0>,\n",
       " <backend.data_model.time_series.DataMultibandTimeSeries at 0x7f115558fa90>,\n",
       " <backend.data_model.time_series.DataMultibandTimeSeries at 0x7f115558fb50>,\n",
       " <backend.data_model.time_series.DataMultibandTimeSeries at 0x7f115558fc10>,\n",
       " <backend.data_model.time_series.DataMultibandTimeSeries at 0x7f115558fcd0>,\n",
       " <backend.data_model.time_series.DataMultibandTimeSeries at 0x7f115558fd90>,\n",
       " <backend.data_model.time_series.DataMultibandTimeSeries at 0x7f115558fe50>]"
      ]
     },
     "execution_count": 18,
     "metadata": {},
     "output_type": "execute_result"
    }
   ],
   "source": [
    "cursor.next()"
   ]
  },
  {
   "cell_type": "code",
   "execution_count": 23,
   "metadata": {
    "collapsed": false
   },
   "outputs": [],
   "source": [
    "ts = a[0]"
   ]
  },
  {
   "cell_type": "code",
   "execution_count": 24,
   "metadata": {
    "collapsed": false
   },
   "outputs": [],
   "source": [
    "d = ts.to_dict()"
   ]
  },
  {
   "cell_type": "code",
   "execution_count": null,
   "metadata": {
    "collapsed": true
   },
   "outputs": [],
   "source": []
  }
 ],
 "metadata": {
  "kernelspec": {
   "display_name": "Python 2",
   "language": "python",
   "name": "python2"
  },
  "language_info": {
   "codemirror_mode": {
    "name": "ipython",
    "version": 2
   },
   "file_extension": ".py",
   "mimetype": "text/x-python",
   "name": "python",
   "nbconvert_exporter": "python",
   "pygments_lexer": "ipython2",
   "version": "2.7.11"
  }
 },
 "nbformat": 4,
 "nbformat_minor": 0
}
