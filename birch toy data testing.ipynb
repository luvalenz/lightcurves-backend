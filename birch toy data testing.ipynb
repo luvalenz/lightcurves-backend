{
 "cells": [
  {
   "cell_type": "code",
   "execution_count": 1,
   "metadata": {
    "collapsed": true
   },
   "outputs": [],
   "source": [
    "from backend.offline.offline_algorithms import Birch\n",
    "import numpy as np\n",
    "import pandas as pd\n",
    "import matplotlib.pyplot as plt\n",
    "import string\n",
    "\n",
    "def add_data_frame(birch, df):\n",
    "    index = df.index.values\n",
    "    values = df.values\n",
    "    for i, v in zip(index, values):\n",
    "        birch._add_data_point(i, v)"
   ]
  },
  {
   "cell_type": "code",
   "execution_count": 2,
   "metadata": {
    "collapsed": true
   },
   "outputs": [],
   "source": [
    "def plot_clustering(centers, labels, unique_labels, X):\n",
    "    plt.plot(centers[:, 0], centers[:, 1], 'x')\n",
    "    colors = plt.cm.Spectral(np.linspace(0, 1, len(unique_labels)))\n",
    "    for center, label in zip(centers, range(max(labels) + 1)) :\n",
    "        #print center\n",
    "        class_member_mask = (labels == label)\n",
    "        X_class = X[class_member_mask]\n",
    "        radius = 0\n",
    "        for member in X_class:\n",
    "            distance = np.linalg.norm(member - center)\n",
    "            if distance > radius:\n",
    "                radius = distance\n",
    "        #print radius\n",
    "        circle = plt.Circle(center,radius,color='r',fill=False)\n",
    "        plt.gca().add_artist(circle)\n",
    "    for label, col in zip(unique_labels, colors):\n",
    "        class_member_mask = (labels == label)\n",
    "        X_class = X[class_member_mask]\n",
    "        plt.plot(X_class[:, 0], X_class[:, 1], 'o', markerfacecolor=col)\n",
    "    plt.show()\n",
    "    \n",
    "def plot_cluster_list(centers, clusters, df):\n",
    "    plt.plot(centers[:, 0], centers[:, 1], 'x')\n",
    "    colors = plt.cm.Spectral(np.linspace(0, 1, len(clusters)))\n",
    "    for cluster_indices, col in zip(clusters, colors):\n",
    "        cluster_data = df.loc[cluster_indices].values\n",
    "        plt.plot(cluster_data[:, 0], cluster_data[:, 1], 'o', markerfacecolor=col)\n",
    "    plt.show()\n",
    "    \n",
    "def test(birch, df):\n",
    "    #print birch.count\n",
    "    #print birch.is_fitted(mode='local')\n",
    "    #print brc.is_fitted(mode='global')\n",
    "    #print('')\n",
    "    #print birch.get_number_of_clusters(mode='local')\n",
    "    #print birch.get_number_of_clusters(mode='global')\n",
    "    local_centers, local_clusters = birch.get_cluster_list(mode='local')\n",
    "    global_centers, global_clusters = birch.get_cluster_list(mode='global')\n",
    "    #print(local_centers)\n",
    "    #print(local_clusters)\n",
    "    print(global_centers)\n",
    "    print(global_clusters)\n",
    "    #print(len(local_centers))\n",
    "    #print(len(global_centers))\n",
    "    plot_cluster_list(local_centers, local_clusters, df)\n",
    "    plot_cluster_list(global_centers, global_clusters, df)"
   ]
  },
  {
   "cell_type": "code",
   "execution_count": 3,
   "metadata": {
    "collapsed": false
   },
   "outputs": [
    {
     "name": "stdout",
     "output_type": "stream",
     "text": [
      "[[ 20.23484904  20.19346678]\n",
      " [ 40.39890738  39.54367337]\n",
      " [ 30.12107314  29.559135  ]\n",
      " [ 10.2774402   10.60103375]]\n",
      "[['0x0', '0x4', '0x7', '0xa', '0xc', '0xe', '0x14', '0x19', '0x1f', '0x22'], ['0x1', '0x3', '0xd', '0x15', '0x16', '0x1a', '0x1d', '0x21', '0x24', '0x27'], ['0x2', '0x9', '0xb', '0x11', '0x13', '0x18', '0x1c', '0x23', '0x25', '0x26'], ['0x5', '0x1e', '0x6', '0x8', '0xf', '0x10', '0x12', '0x17', '0x1b', '0x20']]\n",
      "[[ 25.17796109  24.87630089]\n",
      " [ 40.39890738  39.54367337]\n",
      " [ 10.2774402   10.60103375]\n",
      " [ 50.18282742  49.93117015]]\n",
      "[['0x0', '0x4', '0x7', '0xa', '0xc', '0xe', '0x14', '0x19', '0x1f', '0x22', '0x2', '0x9', '0xb', '0x11', '0x13', '0x18', '0x1c', '0x23', '0x25', '0x26'], ['0x1', '0x3', '0xd', '0x15', '0x16', '0x1a', '0x1d', '0x21', '0x24', '0x27'], ['0x5', '0x1e', '0x6', '0x8', '0xf', '0x10', '0x12', '0x17', '0x1b', '0x20'], ['0x28', '0x29', '0x2a', '0x2b', '0x2c', '0x2d', '0x2e', '0x2f', '0x30', '0x31']]\n"
     ]
    }
   ],
   "source": [
    "mean1 = [10, 10]\n",
    "mean2 = [20, 20]\n",
    "mean3 = [30, 30]\n",
    "mean4 = [40, 40]\n",
    "mean5 = [50, 50]\n",
    "cov1 = [[2.5, 0], [0, 2.5]]\n",
    "cov2 = [[1, 0], [0, 1]]\n",
    "n = 10\n",
    "X1= np.random.multivariate_normal(mean1, cov1, n)\n",
    "X2= np.random.multivariate_normal(mean2, cov1, n)\n",
    "X3= np.random.multivariate_normal(mean3, cov1, n)\n",
    "X4 = np.random.multivariate_normal(mean4, cov2, n)\n",
    "X5 = np.random.multivariate_normal(mean5, cov2, n)\n",
    "X1_4 = np.vstack((X1, X2, X3, X4))\n",
    "order = np.arange(len(X1_4))\n",
    "np.random.shuffle(order)\n",
    "X1_4 = X1_4[order]\n",
    "X = np.vstack((X1_4, X5))\n",
    "#print X\n",
    "# np.save('test_array', X)\n",
    "\n",
    "\n",
    "df = pd.DataFrame(X, index=[hex(i) for i in range(len(X))])\n",
    "#df = pd.DataFrame(X)\n",
    "#print(df)\n",
    "\n",
    "\n",
    "threshold = 2\n",
    "brc = Birch(threshold, 'd1', 'r', 4)\n",
    "add_data_frame(brc, df.iloc[0:40])\n",
    "test(brc, df)\n",
    "\n",
    "#### Incremental adding\n",
    "\n",
    "add_data_frame(brc, df.iloc[40:])\n",
    "test(brc, df)\n"
   ]
  },
  {
   "cell_type": "code",
   "execution_count": 8,
   "metadata": {
    "collapsed": false
   },
   "outputs": [
    {
     "data": {
      "text/plain": [
       "['0.0', '2.0', '1.0', '3.0']"
      ]
     },
     "execution_count": 8,
     "metadata": {},
     "output_type": "execute_result"
    }
   ],
   "source": [
    "brc.unique_global_labels"
   ]
  },
  {
   "cell_type": "code",
   "execution_count": null,
   "metadata": {
    "collapsed": true
   },
   "outputs": [],
   "source": []
  }
 ],
 "metadata": {
  "kernelspec": {
   "display_name": "Python 2",
   "language": "python",
   "name": "python2"
  },
  "language_info": {
   "codemirror_mode": {
    "name": "ipython",
    "version": 2
   },
   "file_extension": ".py",
   "mimetype": "text/x-python",
   "name": "python",
   "nbconvert_exporter": "python",
   "pygments_lexer": "ipython2",
   "version": "2.7.11"
  }
 },
 "nbformat": 4,
 "nbformat_minor": 0
}
